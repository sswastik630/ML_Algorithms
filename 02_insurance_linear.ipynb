{
  "nbformat": 4,
  "nbformat_minor": 0,
  "metadata": {
    "colab": {
      "name": "02-insurance-linear.ipynb",
      "provenance": [],
      "collapsed_sections": [],
      "include_colab_link": true
    },
    "kernelspec": {
      "display_name": "Python 3",
      "language": "python",
      "name": "python3"
    },
    "language_info": {
      "codemirror_mode": {
        "name": "ipython",
        "version": 3
      },
      "file_extension": ".py",
      "mimetype": "text/x-python",
      "name": "python",
      "nbconvert_exporter": "python",
      "pygments_lexer": "ipython3",
      "version": "3.8.5"
    },
    "accelerator": "GPU",
    "widgets": {
      "application/vnd.jupyter.widget-state+json": {
        "57109b2e1678498d89e37467c657cbae": {
          "model_module": "@jupyter-widgets/controls",
          "model_name": "HBoxModel",
          "state": {
            "_view_name": "HBoxView",
            "_dom_classes": [],
            "_model_name": "HBoxModel",
            "_view_module": "@jupyter-widgets/controls",
            "_model_module_version": "1.5.0",
            "_view_count": null,
            "_view_module_version": "1.5.0",
            "box_style": "",
            "layout": "IPY_MODEL_a6cdbffed7404562a3edbf89dc457270",
            "_model_module": "@jupyter-widgets/controls",
            "children": [
              "IPY_MODEL_3479c48f51b240e9908f554659ae5fa7",
              "IPY_MODEL_f54beca99f2b41838e38823fa4743587"
            ]
          }
        },
        "a6cdbffed7404562a3edbf89dc457270": {
          "model_module": "@jupyter-widgets/base",
          "model_name": "LayoutModel",
          "state": {
            "_view_name": "LayoutView",
            "grid_template_rows": null,
            "right": null,
            "justify_content": null,
            "_view_module": "@jupyter-widgets/base",
            "overflow": null,
            "_model_module_version": "1.2.0",
            "_view_count": null,
            "flex_flow": null,
            "width": null,
            "min_width": null,
            "border": null,
            "align_items": null,
            "bottom": null,
            "_model_module": "@jupyter-widgets/base",
            "top": null,
            "grid_column": null,
            "overflow_y": null,
            "overflow_x": null,
            "grid_auto_flow": null,
            "grid_area": null,
            "grid_template_columns": null,
            "flex": null,
            "_model_name": "LayoutModel",
            "justify_items": null,
            "grid_row": null,
            "max_height": null,
            "align_content": null,
            "visibility": null,
            "align_self": null,
            "height": null,
            "min_height": null,
            "padding": null,
            "grid_auto_rows": null,
            "grid_gap": null,
            "max_width": null,
            "order": null,
            "_view_module_version": "1.2.0",
            "grid_template_areas": null,
            "object_position": null,
            "object_fit": null,
            "grid_auto_columns": null,
            "margin": null,
            "display": null,
            "left": null
          }
        },
        "3479c48f51b240e9908f554659ae5fa7": {
          "model_module": "@jupyter-widgets/controls",
          "model_name": "FloatProgressModel",
          "state": {
            "_view_name": "ProgressView",
            "style": "IPY_MODEL_3efc40eead50482fa2ad6f61fef0688e",
            "_dom_classes": [],
            "description": "",
            "_model_name": "FloatProgressModel",
            "bar_style": "success",
            "max": 55628,
            "_view_module": "@jupyter-widgets/controls",
            "_model_module_version": "1.5.0",
            "value": 55628,
            "_view_count": null,
            "_view_module_version": "1.5.0",
            "orientation": "horizontal",
            "min": 0,
            "description_tooltip": null,
            "_model_module": "@jupyter-widgets/controls",
            "layout": "IPY_MODEL_07d897b80c9b4621852847d54b8a4b1b"
          }
        },
        "f54beca99f2b41838e38823fa4743587": {
          "model_module": "@jupyter-widgets/controls",
          "model_name": "HTMLModel",
          "state": {
            "_view_name": "HTMLView",
            "style": "IPY_MODEL_b258d2f1239b4b01968843f68f11a55f",
            "_dom_classes": [],
            "description": "",
            "_model_name": "HTMLModel",
            "placeholder": "​",
            "_view_module": "@jupyter-widgets/controls",
            "_model_module_version": "1.5.0",
            "value": " 56320/? [04:00&lt;00:00, 234.48it/s]",
            "_view_count": null,
            "_view_module_version": "1.5.0",
            "description_tooltip": null,
            "_model_module": "@jupyter-widgets/controls",
            "layout": "IPY_MODEL_4b09ea9e3f5d45c1aa02370068bb140e"
          }
        },
        "3efc40eead50482fa2ad6f61fef0688e": {
          "model_module": "@jupyter-widgets/controls",
          "model_name": "ProgressStyleModel",
          "state": {
            "_view_name": "StyleView",
            "_model_name": "ProgressStyleModel",
            "description_width": "initial",
            "_view_module": "@jupyter-widgets/base",
            "_model_module_version": "1.5.0",
            "_view_count": null,
            "_view_module_version": "1.2.0",
            "bar_color": null,
            "_model_module": "@jupyter-widgets/controls"
          }
        },
        "07d897b80c9b4621852847d54b8a4b1b": {
          "model_module": "@jupyter-widgets/base",
          "model_name": "LayoutModel",
          "state": {
            "_view_name": "LayoutView",
            "grid_template_rows": null,
            "right": null,
            "justify_content": null,
            "_view_module": "@jupyter-widgets/base",
            "overflow": null,
            "_model_module_version": "1.2.0",
            "_view_count": null,
            "flex_flow": null,
            "width": null,
            "min_width": null,
            "border": null,
            "align_items": null,
            "bottom": null,
            "_model_module": "@jupyter-widgets/base",
            "top": null,
            "grid_column": null,
            "overflow_y": null,
            "overflow_x": null,
            "grid_auto_flow": null,
            "grid_area": null,
            "grid_template_columns": null,
            "flex": null,
            "_model_name": "LayoutModel",
            "justify_items": null,
            "grid_row": null,
            "max_height": null,
            "align_content": null,
            "visibility": null,
            "align_self": null,
            "height": null,
            "min_height": null,
            "padding": null,
            "grid_auto_rows": null,
            "grid_gap": null,
            "max_width": null,
            "order": null,
            "_view_module_version": "1.2.0",
            "grid_template_areas": null,
            "object_position": null,
            "object_fit": null,
            "grid_auto_columns": null,
            "margin": null,
            "display": null,
            "left": null
          }
        },
        "b258d2f1239b4b01968843f68f11a55f": {
          "model_module": "@jupyter-widgets/controls",
          "model_name": "DescriptionStyleModel",
          "state": {
            "_view_name": "StyleView",
            "_model_name": "DescriptionStyleModel",
            "description_width": "",
            "_view_module": "@jupyter-widgets/base",
            "_model_module_version": "1.5.0",
            "_view_count": null,
            "_view_module_version": "1.2.0",
            "_model_module": "@jupyter-widgets/controls"
          }
        },
        "4b09ea9e3f5d45c1aa02370068bb140e": {
          "model_module": "@jupyter-widgets/base",
          "model_name": "LayoutModel",
          "state": {
            "_view_name": "LayoutView",
            "grid_template_rows": null,
            "right": null,
            "justify_content": null,
            "_view_module": "@jupyter-widgets/base",
            "overflow": null,
            "_model_module_version": "1.2.0",
            "_view_count": null,
            "flex_flow": null,
            "width": null,
            "min_width": null,
            "border": null,
            "align_items": null,
            "bottom": null,
            "_model_module": "@jupyter-widgets/base",
            "top": null,
            "grid_column": null,
            "overflow_y": null,
            "overflow_x": null,
            "grid_auto_flow": null,
            "grid_area": null,
            "grid_template_columns": null,
            "flex": null,
            "_model_name": "LayoutModel",
            "justify_items": null,
            "grid_row": null,
            "max_height": null,
            "align_content": null,
            "visibility": null,
            "align_self": null,
            "height": null,
            "min_height": null,
            "padding": null,
            "grid_auto_rows": null,
            "grid_gap": null,
            "max_width": null,
            "order": null,
            "_view_module_version": "1.2.0",
            "grid_template_areas": null,
            "object_position": null,
            "object_fit": null,
            "grid_auto_columns": null,
            "margin": null,
            "display": null,
            "left": null
          }
        }
      }
    }
  },
  "cells": [
    {
      "cell_type": "markdown",
      "metadata": {
        "id": "view-in-github",
        "colab_type": "text"
      },
      "source": [
        "<a href=\"https://colab.research.google.com/github/sswastik630/ML_Algorithms/blob/main/02_insurance_linear.ipynb\" target=\"_parent\"><img src=\"https://colab.research.google.com/assets/colab-badge.svg\" alt=\"Open In Colab\"/></a>"
      ]
    },
    {
      "cell_type": "code",
      "metadata": {
        "colab": {
          "base_uri": "https://localhost:8080/"
        },
        "id": "5cQEiDk4Ph-Z",
        "outputId": "c9950a1a-80dd-473f-b478-911b6fe4c891"
      },
      "source": [
        "# Jovian Commit Essentials\n",
        "# Please retain and execute this cell without modifying the contents for `jovian.commit` to work\n",
        "!pip install jovian --upgrade -q\n",
        "import jovian\n",
        "jovian.set_project('02-insurance-linear-regression')\n",
        "jovian.set_colab_id('10XQRJcggTtv-cyYTMuglJ2QakG8XWPfo')"
      ],
      "execution_count": 1,
      "outputs": [
        {
          "output_type": "stream",
          "text": [
            "\u001b[?25l\r\u001b[K     |████▊                           | 10kB 24.7MB/s eta 0:00:01\r\u001b[K     |█████████▌                      | 20kB 18.7MB/s eta 0:00:01\r\u001b[K     |██████████████▎                 | 30kB 15.5MB/s eta 0:00:01\r\u001b[K     |███████████████████             | 40kB 14.2MB/s eta 0:00:01\r\u001b[K     |███████████████████████▊        | 51kB 7.7MB/s eta 0:00:01\r\u001b[K     |████████████████████████████▌   | 61kB 9.0MB/s eta 0:00:01\r\u001b[K     |████████████████████████████████| 71kB 4.9MB/s \n",
            "\u001b[?25h  Building wheel for uuid (setup.py) ... \u001b[?25l\u001b[?25hdone\n"
          ],
          "name": "stdout"
        }
      ]
    },
    {
      "cell_type": "markdown",
      "metadata": {
        "_cell_guid": "b1076dfc-b9ad-4769-8c92-a6c4dae69d19",
        "_uuid": "8f2839f25d086af736a60e9eeb907d3b93b6e0e5",
        "id": "9G_6WdUrVKgQ"
      },
      "source": [
        "# Insurance cost prediction using linear regression\n",
        "\n",
        "Make a submisson here: https://jovian.ai/learn/deep-learning-with-pytorch-zero-to-gans/assignment/assignment-2-train-your-first-model\n",
        "\n",
        "In this assignment we're going to use information like a person's age, sex, BMI, no. of children and smoking habit to predict the price of yearly medical bills. This kind of model is useful for insurance companies to determine the yearly insurance premium for a person. The dataset for this problem is taken from [Kaggle](https://www.kaggle.com/mirichoi0218/insurance).\n",
        "\n",
        "\n",
        "We will create a model with the following steps:\n",
        "1. Download and explore the dataset\n",
        "2. Prepare the dataset for training\n",
        "3. Create a linear regression model\n",
        "4. Train the model to fit the data\n",
        "5. Make predictions using the trained model\n",
        "\n",
        "\n",
        "This assignment builds upon the concepts from the first 2 lessons. It will help to review these Jupyter notebooks:\n",
        "- PyTorch basics: https://jovian.ai/aakashns/01-pytorch-basics\n",
        "- Linear Regression: https://jovian.ai/aakashns/02-linear-regression\n",
        "- Logistic Regression: https://jovian.ai/aakashns/03-logistic-regression\n",
        "- Linear regression (minimal): https://jovian.ai/aakashns/housing-linear-minimal\n",
        "- Logistic regression (minimal): https://jovian.ai/aakashns/mnist-logistic-minimal\n",
        "\n",
        "As you go through this notebook, you will find a **???** in certain places. Your job is to replace the **???** with appropriate code or values, to ensure that the notebook runs properly end-to-end . In some cases, you'll be required to choose some hyperparameters (learning rate, batch size etc.). Try to experiment with the hypeparameters to get the lowest loss.\n"
      ]
    },
    {
      "cell_type": "code",
      "metadata": {
        "id": "03eOaGM9VKgR"
      },
      "source": [
        "# Uncomment and run the appropriate command for your operating system, if required\n",
        "\n",
        "# Linux / Binder\n",
        "# !pip install numpy matplotlib pandas torch==1.7.0+cpu torchvision==0.8.1+cpu torchaudio==0.7.0 -f https://download.pytorch.org/whl/torch_stable.html\n",
        "\n",
        "# Windows\n",
        "# !pip install numpy matplotlib pandas torch==1.7.0+cpu torchvision==0.8.1+cpu torchaudio==0.7.0 -f https://download.pytorch.org/whl/torch_stable.html\n",
        "\n",
        "# MacOS\n",
        "# !pip install numpy matplotlib pandas torch torchvision torchaudio"
      ],
      "execution_count": null,
      "outputs": []
    },
    {
      "cell_type": "code",
      "metadata": {
        "id": "IkcCdxvcVKgS"
      },
      "source": [
        "import torch\n",
        "import jovian\n",
        "import torchvision\n",
        "import torch.nn as nn\n",
        "import pandas as pd\n",
        "import matplotlib.pyplot as plt\n",
        "import torch.nn.functional as F\n",
        "from torchvision.datasets.utils import download_url\n",
        "from torch.utils.data import DataLoader, TensorDataset, random_split"
      ],
      "execution_count": 2,
      "outputs": []
    },
    {
      "cell_type": "code",
      "metadata": {
        "id": "ZeZphrsbVKgS"
      },
      "source": [
        "project_name='02-insurance-linear-regression' # will be used by jovian.commit"
      ],
      "execution_count": 4,
      "outputs": []
    },
    {
      "cell_type": "markdown",
      "metadata": {
        "id": "5wBsMieiVKgS"
      },
      "source": [
        "## Step 1: Download and explore the data\n",
        "\n",
        "Let us begin by downloading the data. We'll use the `download_url` function from PyTorch to get the data as a CSV (comma-separated values) file. "
      ]
    },
    {
      "cell_type": "code",
      "metadata": {
        "_cell_guid": "79c7e3d0-c299-4dcb-8224-4455121ee9b0",
        "_uuid": "d629ff2d2480ee46fbb7e2d37f6b5fab8052498a",
        "colab": {
          "base_uri": "https://localhost:8080/",
          "height": 82,
          "referenced_widgets": [
            "57109b2e1678498d89e37467c657cbae",
            "a6cdbffed7404562a3edbf89dc457270",
            "3479c48f51b240e9908f554659ae5fa7",
            "f54beca99f2b41838e38823fa4743587",
            "3efc40eead50482fa2ad6f61fef0688e",
            "07d897b80c9b4621852847d54b8a4b1b",
            "b258d2f1239b4b01968843f68f11a55f",
            "4b09ea9e3f5d45c1aa02370068bb140e"
          ]
        },
        "id": "YxYcLfhGVKgT",
        "outputId": "c7a0687f-8bec-46ec-e609-372fd7ef7f8d"
      },
      "source": [
        "DATASET_URL = \"https://hub.jovian.ml/wp-content/uploads/2020/05/insurance.csv\"\n",
        "DATA_FILENAME = \"insurance.csv\"\n",
        "download_url(DATASET_URL, '.')"
      ],
      "execution_count": 3,
      "outputs": [
        {
          "output_type": "stream",
          "text": [
            "Downloading https://hub.jovian.ml/wp-content/uploads/2020/05/insurance.csv to ./insurance.csv\n"
          ],
          "name": "stdout"
        },
        {
          "output_type": "display_data",
          "data": {
            "application/vnd.jupyter.widget-view+json": {
              "model_id": "57109b2e1678498d89e37467c657cbae",
              "version_minor": 0,
              "version_major": 2
            },
            "text/plain": [
              "HBox(children=(FloatProgress(value=0.0, max=55628.0), HTML(value='')))"
            ]
          },
          "metadata": {
            "tags": []
          }
        },
        {
          "output_type": "stream",
          "text": [
            "\n"
          ],
          "name": "stdout"
        }
      ]
    },
    {
      "cell_type": "markdown",
      "metadata": {
        "id": "nZe9ZaIEVKgT"
      },
      "source": [
        "To load the dataset into memory, we'll use the `read_csv` function from the `pandas` library. The data will be loaded as a Pandas dataframe. See this short tutorial to learn more: https://data36.com/pandas-tutorial-1-basics-reading-data-files-dataframes-data-selection/"
      ]
    },
    {
      "cell_type": "code",
      "metadata": {
        "colab": {
          "base_uri": "https://localhost:8080/",
          "height": 203
        },
        "id": "5RBSqKnVVKgU",
        "outputId": "27a482df-695a-466b-81d7-bf49420b88b0"
      },
      "source": [
        "dataframe_raw = pd.read_csv(DATA_FILENAME)\n",
        "dataframe_raw.head()"
      ],
      "execution_count": 6,
      "outputs": [
        {
          "output_type": "execute_result",
          "data": {
            "text/html": [
              "<div>\n",
              "<style scoped>\n",
              "    .dataframe tbody tr th:only-of-type {\n",
              "        vertical-align: middle;\n",
              "    }\n",
              "\n",
              "    .dataframe tbody tr th {\n",
              "        vertical-align: top;\n",
              "    }\n",
              "\n",
              "    .dataframe thead th {\n",
              "        text-align: right;\n",
              "    }\n",
              "</style>\n",
              "<table border=\"1\" class=\"dataframe\">\n",
              "  <thead>\n",
              "    <tr style=\"text-align: right;\">\n",
              "      <th></th>\n",
              "      <th>age</th>\n",
              "      <th>sex</th>\n",
              "      <th>bmi</th>\n",
              "      <th>children</th>\n",
              "      <th>smoker</th>\n",
              "      <th>region</th>\n",
              "      <th>charges</th>\n",
              "    </tr>\n",
              "  </thead>\n",
              "  <tbody>\n",
              "    <tr>\n",
              "      <th>0</th>\n",
              "      <td>19</td>\n",
              "      <td>female</td>\n",
              "      <td>27.900</td>\n",
              "      <td>0</td>\n",
              "      <td>yes</td>\n",
              "      <td>southwest</td>\n",
              "      <td>16884.92400</td>\n",
              "    </tr>\n",
              "    <tr>\n",
              "      <th>1</th>\n",
              "      <td>18</td>\n",
              "      <td>male</td>\n",
              "      <td>33.770</td>\n",
              "      <td>1</td>\n",
              "      <td>no</td>\n",
              "      <td>southeast</td>\n",
              "      <td>1725.55230</td>\n",
              "    </tr>\n",
              "    <tr>\n",
              "      <th>2</th>\n",
              "      <td>28</td>\n",
              "      <td>male</td>\n",
              "      <td>33.000</td>\n",
              "      <td>3</td>\n",
              "      <td>no</td>\n",
              "      <td>southeast</td>\n",
              "      <td>4449.46200</td>\n",
              "    </tr>\n",
              "    <tr>\n",
              "      <th>3</th>\n",
              "      <td>33</td>\n",
              "      <td>male</td>\n",
              "      <td>22.705</td>\n",
              "      <td>0</td>\n",
              "      <td>no</td>\n",
              "      <td>northwest</td>\n",
              "      <td>21984.47061</td>\n",
              "    </tr>\n",
              "    <tr>\n",
              "      <th>4</th>\n",
              "      <td>32</td>\n",
              "      <td>male</td>\n",
              "      <td>28.880</td>\n",
              "      <td>0</td>\n",
              "      <td>no</td>\n",
              "      <td>northwest</td>\n",
              "      <td>3866.85520</td>\n",
              "    </tr>\n",
              "  </tbody>\n",
              "</table>\n",
              "</div>"
            ],
            "text/plain": [
              "   age     sex     bmi  children smoker     region      charges\n",
              "0   19  female  27.900         0    yes  southwest  16884.92400\n",
              "1   18    male  33.770         1     no  southeast   1725.55230\n",
              "2   28    male  33.000         3     no  southeast   4449.46200\n",
              "3   33    male  22.705         0     no  northwest  21984.47061\n",
              "4   32    male  28.880         0     no  northwest   3866.85520"
            ]
          },
          "metadata": {
            "tags": []
          },
          "execution_count": 6
        }
      ]
    },
    {
      "cell_type": "markdown",
      "metadata": {
        "id": "5krIoF1ZVKgU"
      },
      "source": [
        "We're going to do a slight customization of the data, so that you every participant receives a slightly different version of the dataset. Fill in your name below as a string (enter at least 5 characters)"
      ]
    },
    {
      "cell_type": "code",
      "metadata": {
        "id": "H6F0CzLGVKgV"
      },
      "source": [
        "your_name = \"Swastik\" # at least 5 characters"
      ],
      "execution_count": 7,
      "outputs": []
    },
    {
      "cell_type": "markdown",
      "metadata": {
        "id": "WxIagJvZVKgV"
      },
      "source": [
        "The `customize_dataset` function will customize the dataset slightly using your name as a source of random numbers."
      ]
    },
    {
      "cell_type": "code",
      "metadata": {
        "id": "N8yhIrUjVKgV"
      },
      "source": [
        "def customize_dataset(dataframe_raw, rand_str):\n",
        "    dataframe = dataframe_raw.copy(deep=True)\n",
        "    # drop some rows\n",
        "    dataframe = dataframe.sample(int(0.95*len(dataframe)), random_state=int(ord(rand_str[0])))\n",
        "    # scale input\n",
        "    dataframe.bmi = dataframe.bmi * ord(rand_str[1])/100.\n",
        "    # scale target\n",
        "    dataframe.charges = dataframe.charges * ord(rand_str[2])/100.\n",
        "    # drop column\n",
        "    if ord(rand_str[3]) % 2 == 1:\n",
        "        dataframe = dataframe.drop(['region'], axis=1)\n",
        "    return dataframe"
      ],
      "execution_count": 8,
      "outputs": []
    },
    {
      "cell_type": "code",
      "metadata": {
        "colab": {
          "base_uri": "https://localhost:8080/",
          "height": 203
        },
        "id": "MA8lrLDcVKgV",
        "outputId": "39e7b281-27c6-42fd-8ef4-102de1724ad3"
      },
      "source": [
        "dataframe = customize_dataset(dataframe_raw, your_name)\n",
        "dataframe.head()"
      ],
      "execution_count": 10,
      "outputs": [
        {
          "output_type": "execute_result",
          "data": {
            "text/html": [
              "<div>\n",
              "<style scoped>\n",
              "    .dataframe tbody tr th:only-of-type {\n",
              "        vertical-align: middle;\n",
              "    }\n",
              "\n",
              "    .dataframe tbody tr th {\n",
              "        vertical-align: top;\n",
              "    }\n",
              "\n",
              "    .dataframe thead th {\n",
              "        text-align: right;\n",
              "    }\n",
              "</style>\n",
              "<table border=\"1\" class=\"dataframe\">\n",
              "  <thead>\n",
              "    <tr style=\"text-align: right;\">\n",
              "      <th></th>\n",
              "      <th>age</th>\n",
              "      <th>sex</th>\n",
              "      <th>bmi</th>\n",
              "      <th>children</th>\n",
              "      <th>smoker</th>\n",
              "      <th>charges</th>\n",
              "    </tr>\n",
              "  </thead>\n",
              "  <tbody>\n",
              "    <tr>\n",
              "      <th>665</th>\n",
              "      <td>43</td>\n",
              "      <td>male</td>\n",
              "      <td>45.29140</td>\n",
              "      <td>2</td>\n",
              "      <td>yes</td>\n",
              "      <td>41283.617488</td>\n",
              "    </tr>\n",
              "    <tr>\n",
              "      <th>579</th>\n",
              "      <td>25</td>\n",
              "      <td>female</td>\n",
              "      <td>27.92335</td>\n",
              "      <td>0</td>\n",
              "      <td>no</td>\n",
              "      <td>3110.296609</td>\n",
              "    </tr>\n",
              "    <tr>\n",
              "      <th>84</th>\n",
              "      <td>37</td>\n",
              "      <td>female</td>\n",
              "      <td>41.41200</td>\n",
              "      <td>2</td>\n",
              "      <td>yes</td>\n",
              "      <td>38641.423430</td>\n",
              "    </tr>\n",
              "    <tr>\n",
              "      <th>244</th>\n",
              "      <td>63</td>\n",
              "      <td>female</td>\n",
              "      <td>33.01060</td>\n",
              "      <td>0</td>\n",
              "      <td>yes</td>\n",
              "      <td>28637.470632</td>\n",
              "    </tr>\n",
              "    <tr>\n",
              "      <th>1307</th>\n",
              "      <td>32</td>\n",
              "      <td>male</td>\n",
              "      <td>33.46280</td>\n",
              "      <td>4</td>\n",
              "      <td>yes</td>\n",
              "      <td>20828.304436</td>\n",
              "    </tr>\n",
              "  </tbody>\n",
              "</table>\n",
              "</div>"
            ],
            "text/plain": [
              "      age     sex       bmi  children smoker       charges\n",
              "665    43    male  45.29140         2    yes  41283.617488\n",
              "579    25  female  27.92335         0     no   3110.296609\n",
              "84     37  female  41.41200         2    yes  38641.423430\n",
              "244    63  female  33.01060         0    yes  28637.470632\n",
              "1307   32    male  33.46280         4    yes  20828.304436"
            ]
          },
          "metadata": {
            "tags": []
          },
          "execution_count": 10
        }
      ]
    },
    {
      "cell_type": "markdown",
      "metadata": {
        "id": "rq13bbJNVKgW"
      },
      "source": [
        "Let us answer some basic questions about the dataset. \n",
        "\n",
        "\n",
        "**Q: How many rows does the dataset have?**"
      ]
    },
    {
      "cell_type": "code",
      "metadata": {
        "colab": {
          "base_uri": "https://localhost:8080/"
        },
        "id": "nQUQUey4VKgW",
        "outputId": "d5bb98fb-0d7f-4c14-db73-acaf02dc6e42"
      },
      "source": [
        "num_rows = len(dataframe)\n",
        "print(num_rows)"
      ],
      "execution_count": 11,
      "outputs": [
        {
          "output_type": "stream",
          "text": [
            "1271\n"
          ],
          "name": "stdout"
        }
      ]
    },
    {
      "cell_type": "markdown",
      "metadata": {
        "id": "Kj4Aj9TbVKgW"
      },
      "source": [
        "**Q: How many columns doe the dataset have**"
      ]
    },
    {
      "cell_type": "code",
      "metadata": {
        "colab": {
          "base_uri": "https://localhost:8080/"
        },
        "id": "x07G83dcVKgW",
        "outputId": "2a69aae8-7dd9-4e4c-afb5-88ee2610565e"
      },
      "source": [
        "num_cols = dataframe.shape[1]\n",
        "print(num_cols)"
      ],
      "execution_count": 13,
      "outputs": [
        {
          "output_type": "stream",
          "text": [
            "6\n"
          ],
          "name": "stdout"
        }
      ]
    },
    {
      "cell_type": "markdown",
      "metadata": {
        "id": "dZbwb70RVKgX"
      },
      "source": [
        "**Q: What are the column titles of the input variables?**"
      ]
    },
    {
      "cell_type": "code",
      "metadata": {
        "colab": {
          "base_uri": "https://localhost:8080/"
        },
        "id": "l2zwX0sJVKgX",
        "outputId": "634a16bf-4181-47ee-c868-a31d8426b81d"
      },
      "source": [
        "\n",
        "input_cols=[x for x in dataframe.columns if x != 'charges']\n",
        "input_cols"
      ],
      "execution_count": 14,
      "outputs": [
        {
          "output_type": "execute_result",
          "data": {
            "text/plain": [
              "['age', 'sex', 'bmi', 'children', 'smoker']"
            ]
          },
          "metadata": {
            "tags": []
          },
          "execution_count": 14
        }
      ]
    },
    {
      "cell_type": "markdown",
      "metadata": {
        "id": "7n7zlrgUVKgX"
      },
      "source": [
        "**Q: Which of the input columns are non-numeric or categorial variables ?**\n",
        "\n",
        "Hint: `sex` is one of them. List the columns that are not numbers."
      ]
    },
    {
      "cell_type": "code",
      "metadata": {
        "id": "5qhqQBhtVKgX",
        "colab": {
          "base_uri": "https://localhost:8080/"
        },
        "outputId": "4b7196b0-a293-4f9d-85dd-b8198f2d87d7"
      },
      "source": [
        "# print(dataframe.dtypes)\n",
        "categorical_cols=[x for x in dataframe.select_dtypes(include='object')]\n",
        "categorical_cols"
      ],
      "execution_count": 24,
      "outputs": [
        {
          "output_type": "execute_result",
          "data": {
            "text/plain": [
              "['sex', 'smoker']"
            ]
          },
          "metadata": {
            "tags": []
          },
          "execution_count": 24
        }
      ]
    },
    {
      "cell_type": "markdown",
      "metadata": {
        "id": "RCgSOS9oVKgX"
      },
      "source": [
        "**Q: What are the column titles of output/target variable(s)?**"
      ]
    },
    {
      "cell_type": "code",
      "metadata": {
        "id": "aniaf2wkVKgX"
      },
      "source": [
        "output_cols = ['charges']"
      ],
      "execution_count": 25,
      "outputs": []
    },
    {
      "cell_type": "markdown",
      "metadata": {
        "id": "KVj2yUBeVKgY"
      },
      "source": [
        "**Q: (Optional) What is the minimum, maximum and average value of the `charges` column? Can you show the distribution of values in a graph?**\n",
        "Use this data visualization cheatsheet for referece: https://jovian.ml/aakashns/dataviz-cheatsheet"
      ]
    },
    {
      "cell_type": "code",
      "metadata": {
        "colab": {
          "base_uri": "https://localhost:8080/"
        },
        "id": "UHGMBhSyVKgY",
        "outputId": "4fbfbae2-7000-4f29-809f-87fb8470c8b3"
      },
      "source": [
        "dataframe['charges'].describe()"
      ],
      "execution_count": 26,
      "outputs": [
        {
          "output_type": "execute_result",
          "data": {
            "text/plain": [
              "count     1271.000000\n",
              "mean     12983.489566\n",
              "std      11845.412394\n",
              "min       1088.217683\n",
              "25%       4604.297496\n",
              "50%       9128.674850\n",
              "75%      16335.447931\n",
              "max      61857.315170\n",
              "Name: charges, dtype: float64"
            ]
          },
          "metadata": {
            "tags": []
          },
          "execution_count": 26
        }
      ]
    },
    {
      "cell_type": "markdown",
      "metadata": {
        "id": "j1ebVdLhVKgY"
      },
      "source": [
        "Remember to commit your notebook to Jovian after every step, so that you don't lose your work."
      ]
    },
    {
      "cell_type": "code",
      "metadata": {
        "id": "feR44If5VKgY"
      },
      "source": [
        "!pip install jovian --upgrade -q"
      ],
      "execution_count": 27,
      "outputs": []
    },
    {
      "cell_type": "code",
      "metadata": {
        "id": "9wU42MseVKgY"
      },
      "source": [
        "import jovian"
      ],
      "execution_count": 28,
      "outputs": []
    },
    {
      "cell_type": "code",
      "metadata": {
        "colab": {
          "base_uri": "https://localhost:8080/",
          "height": 170
        },
        "id": "Xv0tgkL_VKgY",
        "outputId": "391d274f-7f3c-403c-aeae-e542fe1d7341"
      },
      "source": [
        "jovian.commit()"
      ],
      "execution_count": 29,
      "outputs": [
        {
          "output_type": "stream",
          "text": [
            "[jovian] Detected Colab notebook...\u001b[0m\n",
            "[jovian] Please enter your API key ( from https://jovian.ai/ ):\u001b[0m\n",
            "API KEY: ··········\n",
            "API KEY: ··········\n",
            "API KEY: ··········\n",
            "[jovian] Uploading colab notebook to Jovian...\u001b[0m\n",
            "[jovian] Capturing environment..\u001b[0m\n",
            "[jovian] Committed successfully! https://jovian.ai/sswastik630/02-insurance-linear-regression\u001b[0m\n"
          ],
          "name": "stdout"
        },
        {
          "output_type": "execute_result",
          "data": {
            "application/vnd.google.colaboratory.intrinsic+json": {
              "type": "string"
            },
            "text/plain": [
              "'https://jovian.ai/sswastik630/02-insurance-linear-regression'"
            ]
          },
          "metadata": {
            "tags": []
          },
          "execution_count": 29
        }
      ]
    },
    {
      "cell_type": "markdown",
      "metadata": {
        "id": "pgqf_pL_VKgZ"
      },
      "source": [
        "## Step 2: Prepare the dataset for training\n",
        "\n",
        "We need to convert the data from the Pandas dataframe into a PyTorch tensors for training. To do this, the first step is to convert it numpy arrays. If you've filled out `input_cols`, `categorial_cols` and `output_cols` correctly, this following function will perform the conversion to numpy arrays."
      ]
    },
    {
      "cell_type": "code",
      "metadata": {
        "id": "3lt5gP_nVKgZ"
      },
      "source": [
        "def dataframe_to_arrays(dataframe):\n",
        "    # Make a copy of the original dataframe\n",
        "    dataframe1 = dataframe.copy(deep=True)\n",
        "    # Convert non-numeric categorical columns to numbers\n",
        "    for col in categorical_cols:\n",
        "        dataframe1[col] = dataframe1[col].astype('category').cat.codes\n",
        "    # Extract input & outupts as numpy arrays\n",
        "    inputs_array = dataframe1[input_cols].to_numpy()\n",
        "    targets_array = dataframe1[output_cols].to_numpy()\n",
        "    return inputs_array, targets_array"
      ],
      "execution_count": 35,
      "outputs": []
    },
    {
      "cell_type": "markdown",
      "metadata": {
        "id": "Gv3kAkBZVKgZ"
      },
      "source": [
        "Read through the [Pandas documentation](https://pandas.pydata.org/pandas-docs/stable/user_guide/categorical.html) to understand how we're converting categorical variables into numbers."
      ]
    },
    {
      "cell_type": "code",
      "metadata": {
        "colab": {
          "base_uri": "https://localhost:8080/"
        },
        "id": "_1In6apwVKgZ",
        "outputId": "a000a257-6f74-4119-b261-e6f8af7c7d74"
      },
      "source": [
        "inputs_array, targets_array = dataframe_to_arrays(dataframe)\n",
        "print(inputs_array) \n",
        "print(targets_array)"
      ],
      "execution_count": 36,
      "outputs": [
        {
          "output_type": "stream",
          "text": [
            "[[43.       1.      45.2914   2.       1.     ]\n",
            " [25.       0.      27.92335  0.       0.     ]\n",
            " [37.       0.      41.412    2.       1.     ]\n",
            " ...\n",
            " [47.       1.      30.2379   1.       1.     ]\n",
            " [35.       1.      28.7147   1.       0.     ]\n",
            " [43.       0.      30.0713   1.       1.     ]]\n",
            "[[41283.617488 ]\n",
            " [ 3110.2966095]\n",
            " [38641.42343  ]\n",
            " ...\n",
            " [21319.316593 ]\n",
            " [ 4971.459229 ]\n",
            " [21118.202031 ]]\n"
          ],
          "name": "stdout"
        }
      ]
    },
    {
      "cell_type": "markdown",
      "metadata": {
        "id": "KYYZe7vfVKgZ"
      },
      "source": [
        "**Q: Convert the numpy arrays `inputs_array` and `targets_array` into PyTorch tensors. Make sure that the data type is `torch.float32`.**"
      ]
    },
    {
      "cell_type": "code",
      "metadata": {
        "id": "0E1wIGAYVKgZ"
      },
      "source": [
        "inputs = torch.tensor(inputs_array,dtype=torch.float32)\n",
        "targets =torch.tensor(targets_array, dtype=torch.float32)"
      ],
      "execution_count": 37,
      "outputs": []
    },
    {
      "cell_type": "code",
      "metadata": {
        "colab": {
          "base_uri": "https://localhost:8080/"
        },
        "id": "7ka2JkHuVKga",
        "outputId": "fa976642-acb2-499b-eb4b-9bed07d791db"
      },
      "source": [
        "inputs.dtype, targets.dtype"
      ],
      "execution_count": 38,
      "outputs": [
        {
          "output_type": "execute_result",
          "data": {
            "text/plain": [
              "(torch.float32, torch.float32)"
            ]
          },
          "metadata": {
            "tags": []
          },
          "execution_count": 38
        }
      ]
    },
    {
      "cell_type": "markdown",
      "metadata": {
        "id": "1BbN7-C1VKga"
      },
      "source": [
        "Next, we need to create PyTorch datasets & data loaders for training & validation. We'll start by creating a `TensorDataset`."
      ]
    },
    {
      "cell_type": "code",
      "metadata": {
        "id": "9EyXY70qVKga"
      },
      "source": [
        "dataset = TensorDataset(inputs, targets)"
      ],
      "execution_count": 39,
      "outputs": []
    },
    {
      "cell_type": "markdown",
      "metadata": {
        "id": "llbEwkixVKga"
      },
      "source": [
        "**Q: Pick a number between `0.1` and `0.2` to determine the fraction of data that will be used for creating the validation set. Then use `random_split` to create training & validation datasets.**"
      ]
    },
    {
      "cell_type": "code",
      "metadata": {
        "id": "EJDUtRw1VKga"
      },
      "source": [
        "val_percent = 0.2 # between 0.1 and 0.2\n",
        "val_size = int(num_rows * val_percent)\n",
        "train_size = num_rows - val_size\n",
        "\n",
        "\n",
        "train_ds, val_ds = random_split(dataset,(train_size,val_size))# Use the random_split function to split dataset into 2 parts of the desired length"
      ],
      "execution_count": 40,
      "outputs": []
    },
    {
      "cell_type": "markdown",
      "metadata": {
        "id": "XOUH5tORVKga"
      },
      "source": [
        "Finally, we can create data loaders for training & validation.\n",
        "\n",
        "**Q: Pick a batch size for the data loader.**"
      ]
    },
    {
      "cell_type": "code",
      "metadata": {
        "id": "chkg9zNjVKga"
      },
      "source": [
        "batch_size = 128"
      ],
      "execution_count": 41,
      "outputs": []
    },
    {
      "cell_type": "code",
      "metadata": {
        "id": "yHUz-xv6VKgb"
      },
      "source": [
        "train_loader = DataLoader(train_ds, batch_size, shuffle=True)\n",
        "val_loader = DataLoader(val_ds, batch_size)"
      ],
      "execution_count": 42,
      "outputs": []
    },
    {
      "cell_type": "markdown",
      "metadata": {
        "id": "miv6klh9VKgb"
      },
      "source": [
        "Let's look at a batch of data to verify everything is working fine so far."
      ]
    },
    {
      "cell_type": "code",
      "metadata": {
        "colab": {
          "base_uri": "https://localhost:8080/"
        },
        "id": "mpUXsSB4VKgb",
        "outputId": "fa01cfff-f3fe-405d-8450-97011a4e8e05"
      },
      "source": [
        "\n",
        "for xb, yb in train_loader:\n",
        "    print(\"input shape\", xb.shape)\n",
        "    print(\"target shape\", yb.shape)\n",
        "    print(\"inputs:\", xb)\n",
        "\n",
        "    print(\"targets:\", yb)\n",
        "    break"
      ],
      "execution_count": 43,
      "outputs": [
        {
          "output_type": "stream",
          "text": [
            "input shape torch.Size([128, 5])\n",
            "target shape torch.Size([128, 1])\n",
            "inputs: tensor([[23.0000,  1.0000, 37.7587,  3.0000,  1.0000],\n",
            "        [35.0000,  0.0000, 33.3498,  0.0000,  1.0000],\n",
            "        [60.0000,  0.0000, 42.8460,  0.0000,  0.0000],\n",
            "        [35.0000,  1.0000, 33.0106,  2.0000,  1.0000],\n",
            "        [55.0000,  1.0000, 39.2700,  0.0000,  0.0000],\n",
            "        [35.0000,  1.0000, 21.2534,  1.0000,  0.0000],\n",
            "        [27.0000,  1.0000, 33.9150,  0.0000,  1.0000],\n",
            "        [26.0000,  0.0000, 35.6048,  2.0000,  0.0000],\n",
            "        [38.0000,  1.0000, 41.2930,  2.0000,  0.0000],\n",
            "        [19.0000,  1.0000, 40.5790,  0.0000,  0.0000],\n",
            "        [45.0000,  0.0000, 29.9583,  2.0000,  0.0000],\n",
            "        [56.0000,  0.0000, 49.8729,  0.0000,  0.0000],\n",
            "        [53.0000,  0.0000, 43.8634,  3.0000,  1.0000],\n",
            "        [18.0000,  1.0000, 27.3581,  0.0000,  0.0000],\n",
            "        [36.0000,  0.0000, 26.3407,  3.0000,  0.0000],\n",
            "        [50.0000,  1.0000, 43.0780,  0.0000,  0.0000],\n",
            "        [31.0000,  0.0000, 31.6778,  0.0000,  0.0000],\n",
            "        [62.0000,  0.0000, 29.7500,  0.0000,  0.0000],\n",
            "        [62.0000,  0.0000, 37.7587,  0.0000,  0.0000],\n",
            "        [39.0000,  0.0000, 28.8277,  5.0000,  0.0000],\n",
            "        [46.0000,  0.0000, 33.3795,  1.0000,  0.0000],\n",
            "        [52.0000,  1.0000, 38.3240,  3.0000,  0.0000],\n",
            "        [47.0000,  0.0000, 43.5897,  1.0000,  1.0000],\n",
            "        [26.0000,  1.0000, 36.9674,  0.0000,  0.0000],\n",
            "        [18.0000,  0.0000, 44.3751,  1.0000,  0.0000],\n",
            "        [56.0000,  1.0000, 40.0554,  4.0000,  0.0000],\n",
            "        [26.0000,  1.0000, 35.7000,  1.0000,  0.0000],\n",
            "        [57.0000,  0.0000, 36.2891,  0.0000,  0.0000],\n",
            "        [23.0000,  0.0000, 50.8725,  1.0000,  1.0000],\n",
            "        [53.0000,  1.0000, 25.4660,  1.0000,  0.0000],\n",
            "        [59.0000,  1.0000, 29.3930,  0.0000,  0.0000],\n",
            "        [33.0000,  1.0000, 42.5425,  1.0000,  1.0000],\n",
            "        [19.0000,  0.0000, 38.2109,  0.0000,  0.0000],\n",
            "        [29.0000,  1.0000, 32.3680,  0.0000,  0.0000],\n",
            "        [51.0000,  0.0000, 43.2981,  3.0000,  0.0000],\n",
            "        [46.0000,  0.0000, 36.6520,  3.0000,  0.0000],\n",
            "        [34.0000,  0.0000, 44.4286,  2.0000,  0.0000],\n",
            "        [32.0000,  1.0000, 36.6520,  3.0000,  0.0000],\n",
            "        [41.0000,  0.0000, 39.4544,  3.0000,  0.0000],\n",
            "        [24.0000,  1.0000, 34.8670,  0.0000,  0.0000],\n",
            "        [48.0000,  1.0000, 38.4370,  1.0000,  0.0000],\n",
            "        [53.0000,  0.0000, 42.7210,  2.0000,  0.0000],\n",
            "        [49.0000,  1.0000, 30.7496,  1.0000,  0.0000],\n",
            "        [38.0000,  0.0000, 33.1236,  2.0000,  0.0000],\n",
            "        [53.0000,  0.0000, 31.7730,  2.0000,  0.0000],\n",
            "        [51.0000,  1.0000, 47.2430,  1.0000,  0.0000],\n",
            "        [18.0000,  0.0000, 45.5532,  0.0000,  0.0000],\n",
            "        [29.0000,  0.0000, 30.8210,  0.0000,  0.0000],\n",
            "        [33.0000,  1.0000, 34.9860,  4.0000,  0.0000],\n",
            "        [61.0000,  1.0000, 40.3588,  0.0000,  0.0000],\n",
            "        [45.0000,  0.0000, 36.7710,  2.0000,  0.0000],\n",
            "        [40.0000,  1.0000, 31.3148,  1.0000,  0.0000],\n",
            "        [35.0000,  1.0000, 40.8408,  3.0000,  0.0000],\n",
            "        [22.0000,  1.0000, 34.3672,  0.0000,  0.0000],\n",
            "        [35.0000,  1.0000, 43.6373,  1.0000,  1.0000],\n",
            "        [33.0000,  0.0000, 43.1851,  3.0000,  0.0000],\n",
            "        [19.0000,  1.0000, 34.5933,  0.0000,  1.0000],\n",
            "        [30.0000,  0.0000, 32.9630,  0.0000,  0.0000],\n",
            "        [49.0000,  0.0000, 27.5842,  2.0000,  0.0000],\n",
            "        [51.0000,  0.0000, 21.4795,  0.0000,  0.0000],\n",
            "        [54.0000,  0.0000, 37.9610,  3.0000,  0.0000],\n",
            "        [32.0000,  0.0000, 44.2025,  3.0000,  0.0000],\n",
            "        [18.0000,  1.0000, 40.9717,  0.0000,  0.0000],\n",
            "        [57.0000,  1.0000, 40.4719,  0.0000,  0.0000],\n",
            "        [38.0000,  1.0000, 22.9670,  0.0000,  1.0000],\n",
            "        [28.0000,  1.0000, 28.9170,  5.0000,  0.0000],\n",
            "        [50.0000,  1.0000, 31.4279,  0.0000,  0.0000],\n",
            "        [32.0000,  1.0000, 34.3672,  0.0000,  0.0000],\n",
            "        [33.0000,  0.0000, 46.2910,  3.0000,  0.0000],\n",
            "        [56.0000,  1.0000, 40.0197,  0.0000,  1.0000],\n",
            "        [58.0000,  1.0000, 40.9241,  0.0000,  0.0000],\n",
            "        [18.0000,  1.0000, 34.9503,  1.0000,  0.0000],\n",
            "        [37.0000,  0.0000, 20.5751,  2.0000,  0.0000],\n",
            "        [19.0000,  0.0000, 34.3910,  0.0000,  0.0000],\n",
            "        [21.0000,  0.0000, 41.1740,  0.0000,  0.0000],\n",
            "        [37.0000,  0.0000, 56.6440,  2.0000,  1.0000],\n",
            "        [46.0000,  0.0000, 39.7936,  1.0000,  0.0000],\n",
            "        [27.0000,  0.0000, 36.4021,  1.0000,  0.0000],\n",
            "        [58.0000,  0.0000, 32.3323,  0.0000,  0.0000],\n",
            "        [31.0000,  0.0000, 36.2891,  3.0000,  0.0000],\n",
            "        [45.0000,  1.0000, 25.4363,  0.0000,  0.0000],\n",
            "        [59.0000,  0.0000, 38.5500,  3.0000,  0.0000],\n",
            "        [21.0000,  0.0000, 38.8892,  2.0000,  0.0000],\n",
            "        [20.0000,  1.0000, 36.5151,  0.0000,  1.0000],\n",
            "        [44.0000,  1.0000, 26.3407,  2.0000,  0.0000],\n",
            "        [41.0000,  1.0000, 42.5425,  1.0000,  1.0000],\n",
            "        [44.0000,  1.0000, 44.1490,  2.0000,  0.0000],\n",
            "        [58.0000,  0.0000, 29.9880,  0.0000,  0.0000],\n",
            "        [50.0000,  1.0000, 30.1070,  0.0000,  0.0000],\n",
            "        [50.0000,  0.0000, 33.5104,  3.0000,  0.0000],\n",
            "        [62.0000,  1.0000, 31.7670,  0.0000,  1.0000],\n",
            "        [50.0000,  1.0000, 53.2763,  1.0000,  0.0000],\n",
            "        [62.0000,  0.0000, 31.2851,  0.0000,  1.0000],\n",
            "        [61.0000,  0.0000, 34.5933,  0.0000,  1.0000],\n",
            "        [30.0000,  1.0000, 30.2974,  0.0000,  0.0000],\n",
            "        [47.0000,  1.0000, 38.4370,  1.0000,  0.0000],\n",
            "        [45.0000,  1.0000, 35.9380,  1.0000,  0.0000],\n",
            "        [38.0000,  0.0000, 44.8987,  0.0000,  0.0000],\n",
            "        [18.0000,  1.0000, 41.8880,  1.0000,  0.0000],\n",
            "        [49.0000,  1.0000, 36.7710,  0.0000,  1.0000],\n",
            "        [22.0000,  1.0000, 23.7405,  3.0000,  0.0000],\n",
            "        [37.0000,  0.0000, 36.6520,  2.0000,  0.0000],\n",
            "        [48.0000,  0.0000, 34.3672,  1.0000,  0.0000],\n",
            "        [51.0000,  0.0000, 40.6980,  1.0000,  0.0000],\n",
            "        [32.0000,  1.0000, 40.0197,  1.0000,  1.0000],\n",
            "        [59.0000,  0.0000, 33.1177,  3.0000,  0.0000],\n",
            "        [58.0000,  0.0000, 46.4695,  0.0000,  0.0000],\n",
            "        [18.0000,  0.0000, 42.3937,  0.0000,  0.0000],\n",
            "        [26.0000,  0.0000, 35.2716,  4.0000,  0.0000],\n",
            "        [30.0000,  0.0000, 51.3128,  2.0000,  0.0000],\n",
            "        [46.0000,  1.0000, 48.0462,  2.0000,  0.0000],\n",
            "        [35.0000,  1.0000, 32.2490,  1.0000,  0.0000],\n",
            "        [30.0000,  0.0000, 38.5560,  1.0000,  0.0000],\n",
            "        [58.0000,  1.0000, 42.9352,  0.0000,  0.0000],\n",
            "        [53.0000,  1.0000, 28.9408,  0.0000,  0.0000],\n",
            "        [37.0000,  1.0000, 35.2716,  0.0000,  0.0000],\n",
            "        [21.0000,  1.0000, 42.2807,  0.0000,  0.0000],\n",
            "        [44.0000,  1.0000, 35.3847,  2.0000,  0.0000],\n",
            "        [60.0000,  0.0000, 30.7496,  0.0000,  0.0000],\n",
            "        [47.0000,  0.0000, 53.9308,  1.0000,  0.0000],\n",
            "        [41.0000,  1.0000, 28.4886,  1.0000,  0.0000],\n",
            "        [61.0000,  1.0000, 42.6734,  0.0000,  1.0000],\n",
            "        [43.0000,  0.0000, 54.9780,  0.0000,  1.0000],\n",
            "        [64.0000,  0.0000, 40.2220,  1.0000,  1.0000],\n",
            "        [39.0000,  1.0000, 42.0070,  2.0000,  1.0000],\n",
            "        [34.0000,  1.0000, 41.2632,  0.0000,  0.0000],\n",
            "        [46.0000,  1.0000, 39.6805,  1.0000,  0.0000],\n",
            "        [20.0000,  0.0000, 34.2542,  0.0000,  0.0000]])\n",
            "targets: tensor([[35103.4297],\n",
            "        [19627.8086],\n",
            "        [12831.9814],\n",
            "        [20354.5703],\n",
            "        [20158.0449],\n",
            "        [ 4963.0054],\n",
            "        [17761.4199],\n",
            "        [ 3862.5176],\n",
            "        [ 5899.9326],\n",
            "        [ 1223.5988],\n",
            "        [ 8822.2158],\n",
            "        [10760.8145],\n",
            "        [45261.5977],\n",
            "        [ 1653.4310],\n",
            "        [ 7011.3691],\n",
            "        [ 8204.0830],\n",
            "        [ 3645.1094],\n",
            "        [13047.5879],\n",
            "        [13622.1729],\n",
            "        [ 8696.8223],\n",
            "        [ 7986.1045],\n",
            "        [11143.6670],\n",
            "        [41680.7578],\n",
            "        [ 2618.5813],\n",
            "        [ 2152.8618],\n",
            "        [12560.6807],\n",
            "        [ 2816.9653],\n",
            "        [11485.5518],\n",
            "        [39677.0742],\n",
            "        [ 9763.4502],\n",
            "        [11954.2178],\n",
            "        [37134.2656],\n",
            "        [ 2066.7556],\n",
            "        [ 2780.1082],\n",
            "        [11093.6357],\n",
            "        [ 9132.4727],\n",
            "        [ 5809.8379],\n",
            "        [ 5095.9185],\n",
            "        [ 8282.1396],\n",
            "        [ 1918.4806],\n",
            "        [ 8502.2920],\n",
            "        [10828.6611],\n",
            "        [ 9004.0059],\n",
            "        [ 6930.5166],\n",
            "        [10816.2568],\n",
            "        [ 9109.6055],\n",
            "        [13709.0469],\n",
            "        [ 3252.6855],\n",
            "        [ 5877.3979],\n",
            "        [12749.5488],\n",
            "        [ 8264.4248],\n",
            "        [ 6197.6963],\n",
            "        [ 5756.3486],\n",
            "        [ 2183.3101],\n",
            "        [38581.0469],\n",
            "        [ 6355.1978],\n",
            "        [16832.0996],\n",
            "        [ 3447.5769],\n",
            "        [ 9852.0801],\n",
            "        [ 9354.9248],\n",
            "        [26503.0527],\n",
            "        [ 6144.3135],\n",
            "        [ 1103.3456],\n",
            "        [11015.9609],\n",
            "        [15346.0781],\n",
            "        [ 5446.9077],\n",
            "        [ 8562.3936],\n",
            "        [ 3750.8496],\n",
            "        [ 5793.2065],\n",
            "        [42603.5469],\n",
            "        [11391.6162],\n",
            "        [ 1667.8533],\n",
            "        [ 6671.6406],\n",
            "        [ 1690.9176],\n",
            "        [ 1959.5717],\n",
            "        [44730.1055],\n",
            "        [ 7993.3721],\n",
            "        [16292.5195],\n",
            "        [11856.2109],\n",
            "        [ 5929.8340],\n",
            "        [ 7006.1025],\n",
            "        [14152.9131],\n",
            "        [25238.3828],\n",
            "        [32471.5430],\n",
            "        [ 8053.4595],\n",
            "        [39065.4375],\n",
            "        [ 7508.1270],\n",
            "        [11482.0449],\n",
            "        [ 8189.3872],\n",
            "        [10381.5635],\n",
            "        [27258.2930],\n",
            "        [ 8786.9688],\n",
            "        [26974.4629],\n",
            "        [28267.1191],\n",
            "        [ 3535.7368],\n",
            "        [ 7820.8809],\n",
            "        [ 7217.8213],\n",
            "        [ 5235.6880],\n",
            "        [ 1675.7137],\n",
            "        [38535.7852],\n",
            "        [ 3885.2598],\n",
            "        [ 6124.3462],\n",
            "        [ 8972.0107],\n",
            "        [ 9576.5195],\n",
            "        [36479.3008],\n",
            "        [13581.2480],\n",
            "        [11500.7188],\n",
            "        [ 2144.7969],\n",
            "        [23931.5137],\n",
            "        [ 4611.0278],\n",
            "        [ 8471.2324],\n",
            "        [ 4603.9536],\n",
            "        [ 4025.2439],\n",
            "        [11022.3848],\n",
            "        [ 9567.5674],\n",
            "        [ 4877.3022],\n",
            "        [ 1486.4956],\n",
            "        [31145.4023],\n",
            "        [28055.4434],\n",
            "        [ 8312.7656],\n",
            "        [ 6652.7251],\n",
            "        [45201.1367],\n",
            "        [44487.3086],\n",
            "        [46490.1875],\n",
            "        [38900.7734],\n",
            "        [ 4383.2612],\n",
            "        [ 8084.4238],\n",
            "        [ 2383.4949]])\n"
          ],
          "name": "stdout"
        }
      ]
    },
    {
      "cell_type": "markdown",
      "metadata": {
        "id": "0BQLaljBVKgb"
      },
      "source": [
        "Let's save our work by committing to Jovian."
      ]
    },
    {
      "cell_type": "code",
      "metadata": {
        "colab": {
          "base_uri": "https://localhost:8080/",
          "height": 86
        },
        "id": "awyiU_OfVKgb",
        "outputId": "15838602-b09b-4abf-cb75-a58eb45b72d1"
      },
      "source": [
        "jovian.commit(project=project_name, environment=None)"
      ],
      "execution_count": 44,
      "outputs": [
        {
          "output_type": "stream",
          "text": [
            "[jovian] Detected Colab notebook...\u001b[0m\n",
            "[jovian] Uploading colab notebook to Jovian...\u001b[0m\n",
            "[jovian] Committed successfully! https://jovian.ai/sswastik630/02-insurance-linear-regression\u001b[0m\n"
          ],
          "name": "stdout"
        },
        {
          "output_type": "execute_result",
          "data": {
            "application/vnd.google.colaboratory.intrinsic+json": {
              "type": "string"
            },
            "text/plain": [
              "'https://jovian.ai/sswastik630/02-insurance-linear-regression'"
            ]
          },
          "metadata": {
            "tags": []
          },
          "execution_count": 44
        }
      ]
    },
    {
      "cell_type": "markdown",
      "metadata": {
        "id": "dXermrP6VKgb"
      },
      "source": [
        "## Step 3: Create a Linear Regression Model\n",
        "\n",
        "Our model itself is a fairly straightforward linear regression (we'll build more complex models in the next assignment). \n"
      ]
    },
    {
      "cell_type": "code",
      "metadata": {
        "id": "z7xsX1vuVKgb"
      },
      "source": [
        "input_size = len(input_cols)\n",
        "output_size = len(output_cols)"
      ],
      "execution_count": 45,
      "outputs": []
    },
    {
      "cell_type": "markdown",
      "metadata": {
        "id": "snaojM_cVKgc"
      },
      "source": [
        "**Q: Complete the class definition below by filling out the constructor (`__init__`), `forward`, `training_step` and `validation_step` methods.**\n",
        "\n",
        "Hint: Think carefully about picking a good loss fuction (it's not cross entropy). Maybe try 2-3 of them and see which one works best. See https://pytorch.org/docs/stable/nn.functional.html#loss-functions"
      ]
    },
    {
      "cell_type": "code",
      "metadata": {
        "id": "x9uOV1eOVKgc"
      },
      "source": [
        "\n",
        "class InsuranceModel(nn.Module):\n",
        "    def __init__(self):\n",
        "        super().__init__()\n",
        "        self.linear = nn.Linear(input_size,output_size)                  # fill this (hint: use input_size & output_size defined above)\n",
        "        \n",
        "    def forward(self, xb):\n",
        "        out = self.linear(xb)                         # fill this\n",
        "        return out\n",
        "    \n",
        "    def training_step(self, batch):\n",
        "        inputs, targets = batch \n",
        "        # Generate predictions\n",
        "        out = self(inputs)          \n",
        "        # Calcuate loss\n",
        "        loss = F.l1_loss(out,targets)                          # fill this\n",
        "        return loss\n",
        "    \n",
        "    def validation_step(self, batch):\n",
        "        inputs, targets = batch\n",
        "        # Generate predictions\n",
        "        out = self(inputs)\n",
        "        # Calculate loss\n",
        "        loss = F.l1_loss(out,targets)                     # fill this    \n",
        "        return {'val_loss': loss.detach()}\n",
        "        \n",
        "    def validation_epoch_end(self, outputs):\n",
        "        batch_losses = [x['val_loss'] for x in outputs]\n",
        "        epoch_loss = torch.stack(batch_losses).mean()   # Combine losses\n",
        "        return {'val_loss': epoch_loss.item()}\n",
        "    \n",
        "    def epoch_end(self, epoch, result, num_epochs):\n",
        "        # Print result every 20th epoch\n",
        "        if (epoch+1) % 1000 == 0 or epoch == num_epochs-1:\n",
        "            print(\"Epoch [{}], val_loss: {:.4f}\".format(epoch+1, result['val_loss']))"
      ],
      "execution_count": 46,
      "outputs": []
    },
    {
      "cell_type": "markdown",
      "metadata": {
        "id": "soAJoAetVKgc"
      },
      "source": [
        "Let us create a model using the `InsuranceModel` class. You may need to come back later and re-run the next cell to reinitialize the model, in case the loss becomes `nan` or `infinity`."
      ]
    },
    {
      "cell_type": "code",
      "metadata": {
        "id": "CHSUtFWzVKgc"
      },
      "source": [
        "model = InsuranceModel()"
      ],
      "execution_count": 47,
      "outputs": []
    },
    {
      "cell_type": "markdown",
      "metadata": {
        "id": "FYiPJBucVKgd"
      },
      "source": [
        "Let's check out the weights and biases of the model using `model.parameters`."
      ]
    },
    {
      "cell_type": "code",
      "metadata": {
        "colab": {
          "base_uri": "https://localhost:8080/"
        },
        "id": "XOHKTyLTVKgd",
        "outputId": "fceb6e31-fc0f-4c7f-9794-0816efd09d98"
      },
      "source": [
        "\n",
        "list(model.parameters())"
      ],
      "execution_count": 48,
      "outputs": [
        {
          "output_type": "execute_result",
          "data": {
            "text/plain": [
              "[Parameter containing:\n",
              " tensor([[-0.0859, -0.2821,  0.1091, -0.0399,  0.1177]], requires_grad=True),\n",
              " Parameter containing:\n",
              " tensor([-0.3507], requires_grad=True)]"
            ]
          },
          "metadata": {
            "tags": []
          },
          "execution_count": 48
        }
      ]
    },
    {
      "cell_type": "markdown",
      "metadata": {
        "id": "Eg7q5HM9VKgd"
      },
      "source": [
        "One final commit before we train the model."
      ]
    },
    {
      "cell_type": "code",
      "metadata": {
        "colab": {
          "base_uri": "https://localhost:8080/",
          "height": 86
        },
        "id": "L9WvV3KmVKgd",
        "outputId": "3d982bf6-b5fa-4c8c-bec7-bd4c7af936d3"
      },
      "source": [
        "jovian.commit(project=project_name, environment=None)"
      ],
      "execution_count": 49,
      "outputs": [
        {
          "output_type": "stream",
          "text": [
            "[jovian] Detected Colab notebook...\u001b[0m\n",
            "[jovian] Uploading colab notebook to Jovian...\u001b[0m\n",
            "[jovian] Committed successfully! https://jovian.ai/sswastik630/02-insurance-linear-regression\u001b[0m\n"
          ],
          "name": "stdout"
        },
        {
          "output_type": "execute_result",
          "data": {
            "application/vnd.google.colaboratory.intrinsic+json": {
              "type": "string"
            },
            "text/plain": [
              "'https://jovian.ai/sswastik630/02-insurance-linear-regression'"
            ]
          },
          "metadata": {
            "tags": []
          },
          "execution_count": 49
        }
      ]
    },
    {
      "cell_type": "markdown",
      "metadata": {
        "id": "wIaBg3NYVKgd"
      },
      "source": [
        "## Step 4: Train the model to fit the data\n",
        "\n",
        "To train our model, we'll use the same `fit` function explained in the lecture. That's the benefit of defining a generic training loop - you can use it for any problem."
      ]
    },
    {
      "cell_type": "code",
      "metadata": {
        "id": "ymJPruXrVKgd"
      },
      "source": [
        "def evaluate(model, val_loader):\n",
        "    outputs = [model.validation_step(batch) for batch in val_loader]\n",
        "    return model.validation_epoch_end(outputs)\n",
        "\n",
        "def fit(epochs, lr, model, train_loader, val_loader, opt_func=torch.optim.SGD):\n",
        "    history = []\n",
        "    optimizer = opt_func(model.parameters(), lr)\n",
        "    for epoch in range(epochs):\n",
        "        # Training Phase \n",
        "        for batch in train_loader:\n",
        "            loss = model.training_step(batch)\n",
        "            loss.backward()\n",
        "            optimizer.step()\n",
        "            optimizer.zero_grad()\n",
        "        # Validation phase\n",
        "        result = evaluate(model, val_loader)\n",
        "        model.epoch_end(epoch, result, epochs)\n",
        "        history.append(result)\n",
        "    return history"
      ],
      "execution_count": 50,
      "outputs": []
    },
    {
      "cell_type": "markdown",
      "metadata": {
        "id": "7_nj_BSsVKge"
      },
      "source": [
        "**Q: Use the `evaluate` function to calculate the loss on the validation set before training.**"
      ]
    },
    {
      "cell_type": "code",
      "metadata": {
        "colab": {
          "base_uri": "https://localhost:8080/"
        },
        "id": "y8--6Of3VKge",
        "outputId": "9e8e964b-1e76-4965-9f70-64788db9b196"
      },
      "source": [
        "result = evaluate(model,val_loader) # Use the the evaluate function\n",
        "print(result)"
      ],
      "execution_count": 51,
      "outputs": [
        {
          "output_type": "stream",
          "text": [
            "{'val_loss': 12768.6484375}\n"
          ],
          "name": "stdout"
        }
      ]
    },
    {
      "cell_type": "markdown",
      "metadata": {
        "id": "OTWZA_3xVKgf"
      },
      "source": [
        "\n",
        "We are now ready to train the model. You may need to run the training loop many times, for different number of epochs and with different learning rates, to get a good result. Also, if your loss becomes too large (or `nan`), you may have to re-initialize the model by running the cell `model = InsuranceModel()`. Experiment with this for a while, and try to get to as low a loss as possible."
      ]
    },
    {
      "cell_type": "markdown",
      "metadata": {
        "id": "QaCrljS1VKgf"
      },
      "source": [
        "**Q: Train the model 4-5 times with different learning rates & for different number of epochs.**\n",
        "\n",
        "Hint: Vary learning rates by orders of 10 (e.g. `1e-2`, `1e-3`, `1e-4`, `1e-5`, `1e-6`) to figure out what works."
      ]
    },
    {
      "cell_type": "code",
      "metadata": {
        "colab": {
          "base_uri": "https://localhost:8080/"
        },
        "id": "sA6_JnMgVKgf",
        "outputId": "abc6d372-93e3-4e1f-de68-d9d5da46a4ff"
      },
      "source": [
        "epochs = 10000\n",
        "lr = 1e-4\n",
        "history1 = fit(epochs, lr, model, train_loader, val_loader)"
      ],
      "execution_count": 52,
      "outputs": [
        {
          "output_type": "stream",
          "text": [
            "Epoch [1000], val_loss: 10526.7041\n",
            "Epoch [2000], val_loss: 8967.6143\n",
            "Epoch [3000], val_loss: 8045.8750\n",
            "Epoch [4000], val_loss: 7543.2998\n",
            "Epoch [5000], val_loss: 7312.2988\n",
            "Epoch [6000], val_loss: 7221.4858\n",
            "Epoch [7000], val_loss: 7183.2969\n",
            "Epoch [8000], val_loss: 7159.6133\n",
            "Epoch [9000], val_loss: 7143.8906\n",
            "Epoch [10000], val_loss: 7131.8008\n"
          ],
          "name": "stdout"
        }
      ]
    },
    {
      "cell_type": "code",
      "metadata": {
        "colab": {
          "base_uri": "https://localhost:8080/"
        },
        "id": "hkGvH4_LVKgf",
        "outputId": "118edaa1-f25f-4af1-e93e-db50d6f8c1b0"
      },
      "source": [
        "epochs = 10000\n",
        "lr = 1e-3\n",
        "history2 = fit(epochs, lr, model, train_loader, val_loader)"
      ],
      "execution_count": 53,
      "outputs": [
        {
          "output_type": "stream",
          "text": [
            "Epoch [1000], val_loss: 7119.1299\n",
            "Epoch [2000], val_loss: 7106.4775\n",
            "Epoch [3000], val_loss: 7094.0879\n",
            "Epoch [4000], val_loss: 7081.7939\n",
            "Epoch [5000], val_loss: 7069.2080\n",
            "Epoch [6000], val_loss: 7056.6074\n",
            "Epoch [7000], val_loss: 7043.9121\n",
            "Epoch [8000], val_loss: 7031.2188\n",
            "Epoch [9000], val_loss: 7018.5537\n",
            "Epoch [10000], val_loss: 7006.1562\n"
          ],
          "name": "stdout"
        }
      ]
    },
    {
      "cell_type": "code",
      "metadata": {
        "colab": {
          "base_uri": "https://localhost:8080/"
        },
        "id": "1zmdiDimVKgf",
        "outputId": "5647cd0e-43e0-4e22-e052-74063d5ddd70"
      },
      "source": [
        "epochs = 5000\n",
        "lr = 1e-5\n",
        "history3 = fit(epochs, lr, model, train_loader, val_loader)"
      ],
      "execution_count": 54,
      "outputs": [
        {
          "output_type": "stream",
          "text": [
            "Epoch [1000], val_loss: 6993.9268\n",
            "Epoch [2000], val_loss: 6981.5811\n",
            "Epoch [3000], val_loss: 6969.0601\n",
            "Epoch [4000], val_loss: 6956.8237\n",
            "Epoch [5000], val_loss: 6945.0063\n",
            "Epoch [6000], val_loss: 6933.6973\n",
            "Epoch [7000], val_loss: 6922.8057\n",
            "Epoch [8000], val_loss: 6912.1426\n",
            "Epoch [9000], val_loss: 6901.4541\n",
            "Epoch [10000], val_loss: 6890.8828\n"
          ],
          "name": "stdout"
        }
      ]
    },
    {
      "cell_type": "code",
      "metadata": {
        "colab": {
          "base_uri": "https://localhost:8080/"
        },
        "id": "4hgPGKGLVKgg",
        "outputId": "2e817fef-2974-480f-b6c8-41a473d25c02"
      },
      "source": [
        "epochs = 10000\n",
        "lr = 1e-4\n",
        "history4 = fit(epochs, lr, model, train_loader, val_loader)"
      ],
      "execution_count": 55,
      "outputs": [
        {
          "output_type": "stream",
          "text": [
            "Epoch [1000], val_loss: 6880.5928\n",
            "Epoch [2000], val_loss: 6870.5518\n",
            "Epoch [3000], val_loss: 6860.8066\n",
            "Epoch [4000], val_loss: 6851.2080\n",
            "Epoch [5000], val_loss: 6841.6279\n",
            "Epoch [6000], val_loss: 6832.0508\n",
            "Epoch [7000], val_loss: 6822.5342\n",
            "Epoch [8000], val_loss: 6813.0000\n",
            "Epoch [9000], val_loss: 6803.5459\n",
            "Epoch [10000], val_loss: 6794.2583\n"
          ],
          "name": "stdout"
        }
      ]
    },
    {
      "cell_type": "code",
      "metadata": {
        "colab": {
          "base_uri": "https://localhost:8080/"
        },
        "id": "6rnttuq5VKgg",
        "outputId": "fb11ae88-6b25-4705-8484-bba58f4e47b6"
      },
      "source": [
        "epochs = 10000\n",
        "lr = 1e-4\n",
        "history5 = fit(epochs, lr, model, train_loader, val_loader)"
      ],
      "execution_count": 56,
      "outputs": [
        {
          "output_type": "stream",
          "text": [
            "Epoch [1000], val_loss: 6785.3022\n",
            "Epoch [2000], val_loss: 6775.9385\n",
            "Epoch [3000], val_loss: 6766.7949\n",
            "Epoch [4000], val_loss: 6758.1729\n",
            "Epoch [5000], val_loss: 6749.6729\n",
            "Epoch [6000], val_loss: 6742.1816\n",
            "Epoch [7000], val_loss: 6734.9531\n",
            "Epoch [8000], val_loss: 6727.7446\n",
            "Epoch [9000], val_loss: 6721.0186\n",
            "Epoch [10000], val_loss: 6714.4082\n"
          ],
          "name": "stdout"
        }
      ]
    },
    {
      "cell_type": "markdown",
      "metadata": {
        "id": "fqF4rPJoVKgg"
      },
      "source": [
        "**Q: What is the final validation loss of your model?**"
      ]
    },
    {
      "cell_type": "code",
      "metadata": {
        "id": "wUtEkpuCVKgg"
      },
      "source": [
        "val_loss = history5[-1]['val_loss']"
      ],
      "execution_count": 57,
      "outputs": []
    },
    {
      "cell_type": "markdown",
      "metadata": {
        "id": "hXu2NqUaVKgg"
      },
      "source": [
        "Let's log the final validation loss to Jovian and commit the notebook"
      ]
    },
    {
      "cell_type": "code",
      "metadata": {
        "colab": {
          "base_uri": "https://localhost:8080/"
        },
        "id": "mVB8g-8gVKgg",
        "outputId": "5edaf257-7c45-4fa4-afc7-7aa665447c48"
      },
      "source": [
        "jovian.log_metrics(val_loss=val_loss)"
      ],
      "execution_count": 58,
      "outputs": [
        {
          "output_type": "stream",
          "text": [
            "[jovian] Metrics logged.\u001b[0m\n"
          ],
          "name": "stdout"
        }
      ]
    },
    {
      "cell_type": "code",
      "metadata": {
        "colab": {
          "base_uri": "https://localhost:8080/",
          "height": 102
        },
        "id": "YrqV4SKVVKgg",
        "outputId": "a01f3504-a994-4307-9455-0d4ffb988616"
      },
      "source": [
        "jovian.commit(project=project_name, environment=None)"
      ],
      "execution_count": 59,
      "outputs": [
        {
          "output_type": "stream",
          "text": [
            "[jovian] Detected Colab notebook...\u001b[0m\n",
            "[jovian] Uploading colab notebook to Jovian...\u001b[0m\n",
            "[jovian] Attaching records (metrics, hyperparameters, dataset etc.)\u001b[0m\n",
            "[jovian] Committed successfully! https://jovian.ai/sswastik630/02-insurance-linear-regression\u001b[0m\n"
          ],
          "name": "stdout"
        },
        {
          "output_type": "execute_result",
          "data": {
            "application/vnd.google.colaboratory.intrinsic+json": {
              "type": "string"
            },
            "text/plain": [
              "'https://jovian.ai/sswastik630/02-insurance-linear-regression'"
            ]
          },
          "metadata": {
            "tags": []
          },
          "execution_count": 59
        }
      ]
    },
    {
      "cell_type": "markdown",
      "metadata": {
        "id": "hcEFeg8kVKgh"
      },
      "source": [
        "Now scroll back up, re-initialize the model, and try different set of values for batch size, number of epochs, learning rate etc. Commit each experiment and use the \"Compare\" and \"View Diff\" options on Jovian to compare the different results."
      ]
    },
    {
      "cell_type": "markdown",
      "metadata": {
        "id": "QvHZBOehVKgh"
      },
      "source": [
        "## Step 5: Make predictions using the trained model\n",
        "\n",
        "**Q: Complete the following function definition to make predictions on a single input**"
      ]
    },
    {
      "cell_type": "code",
      "metadata": {
        "id": "TJE4VgUYVKgh"
      },
      "source": [
        "def predict_single(input, target, model):\n",
        "    inputs = input.unsqueeze(0)\n",
        "    predictions = model(inputs)                # fill this\n",
        "    prediction = predictions[0].detach()\n",
        "    print(\"Input:\", input)\n",
        "    print(\"Target:\", target)\n",
        "    print(\"Prediction:\", prediction)"
      ],
      "execution_count": 62,
      "outputs": []
    },
    {
      "cell_type": "code",
      "metadata": {
        "id": "9_jV8pRyVKgh",
        "colab": {
          "base_uri": "https://localhost:8080/"
        },
        "outputId": "d09530ea-2e9d-4c6d-d095-0fbd890cfc66"
      },
      "source": [
        "input, target = val_ds[0]\n",
        "predict_single(input, target, model)"
      ],
      "execution_count": 63,
      "outputs": [
        {
          "output_type": "stream",
          "text": [
            "Input: tensor([55.0000,  0.0000, 41.8880,  0.0000,  1.0000])\n",
            "Target: tensor([43091.0898])\n",
            "Prediction: tensor([10738.7334])\n"
          ],
          "name": "stdout"
        }
      ]
    },
    {
      "cell_type": "code",
      "metadata": {
        "id": "By8qxzQwVKgh",
        "colab": {
          "base_uri": "https://localhost:8080/"
        },
        "outputId": "6de61b4b-f293-43ad-e4cd-a2701ca1293b"
      },
      "source": [
        "input, target = val_ds[10]\n",
        "predict_single(input, target, model)"
      ],
      "execution_count": 64,
      "outputs": [
        {
          "output_type": "stream",
          "text": [
            "Input: tensor([24.0000,  0.0000, 24.4188,  0.0000,  1.0000])\n",
            "Target: tensor([14134.7344])\n",
            "Prediction: tensor([4593.7144])\n"
          ],
          "name": "stdout"
        }
      ]
    },
    {
      "cell_type": "code",
      "metadata": {
        "id": "bqtPR9AuVKgh",
        "colab": {
          "base_uri": "https://localhost:8080/"
        },
        "outputId": "379d2e51-7f41-41db-d9b9-59f45633780b"
      },
      "source": [
        "input, target = val_ds[23]\n",
        "predict_single(input, target, model)"
      ],
      "execution_count": 65,
      "outputs": [
        {
          "output_type": "stream",
          "text": [
            "Input: tensor([28.0000,  1.0000, 28.5362,  3.0000,  1.0000])\n",
            "Target: tensor([17133.2500])\n",
            "Prediction: tensor([5368.5732])\n"
          ],
          "name": "stdout"
        }
      ]
    },
    {
      "cell_type": "markdown",
      "metadata": {
        "id": "2TTl-1hMVKgh"
      },
      "source": [
        "Are you happy with your model's predictions? Try to improve them further."
      ]
    },
    {
      "cell_type": "markdown",
      "metadata": {
        "id": "OTyqKP48VKgi"
      },
      "source": [
        "## (Optional) Step 6: Try another dataset & blog about it\n",
        "\n",
        "While this last step is optional for the submission of your assignment, we highly recommend that you do it. Try to replicate this notebook for a different linear regression or logistic regression problem. This will help solidify your understanding, and give you a chance to differentiate the generic patterns in machine learning from problem-specific details.You can use one of these starer notebooks (just change the dataset):\n",
        "\n",
        "- Linear regression (minimal): https://jovian.ai/aakashns/housing-linear-minimal\n",
        "- Logistic regression (minimal): https://jovian.ai/aakashns/mnist-logistic-minimal\n",
        "\n",
        "Here are some sources to find good datasets:\n",
        "\n",
        "- https://lionbridge.ai/datasets/10-open-datasets-for-linear-regression/\n",
        "- https://www.kaggle.com/rtatman/datasets-for-regression-analysis\n",
        "- https://archive.ics.uci.edu/ml/datasets.php?format=&task=reg&att=&area=&numAtt=&numIns=&type=&sort=nameUp&view=table\n",
        "- https://people.sc.fsu.edu/~jburkardt/datasets/regression/regression.html\n",
        "- https://archive.ics.uci.edu/ml/datasets/wine+quality\n",
        "- https://pytorch.org/docs/stable/torchvision/datasets.html\n",
        "\n",
        "We also recommend that you write a blog about your approach to the problem. Here is a suggested structure for your post (feel free to experiment with it):\n",
        "\n",
        "- Interesting title & subtitle\n",
        "- Overview of what the blog covers (which dataset, linear regression or logistic regression, intro to PyTorch)\n",
        "- Downloading & exploring the data\n",
        "- Preparing the data for training\n",
        "- Creating a model using PyTorch\n",
        "- Training the model to fit the data\n",
        "- Your thoughts on how to experiment with different hyperparmeters to reduce loss\n",
        "- Making predictions using the model\n",
        "\n",
        "As with the previous assignment, you can [embed Juptyer notebook cells & outputs from Jovian](https://medium.com/jovianml/share-and-embed-jupyter-notebooks-online-with-jovian-ml-df709a03064e) into your blog. \n",
        "\n",
        "Don't forget to share your work on the forum: https://jovian.ai/forum/t/linear-regression-and-logistic-regression-notebooks-and-blog-posts/14039"
      ]
    },
    {
      "cell_type": "code",
      "metadata": {
        "id": "njct50kQVKgi",
        "colab": {
          "base_uri": "https://localhost:8080/",
          "height": 170
        },
        "outputId": "25b19332-458f-4bd6-ed0c-5b0d70087e14"
      },
      "source": [
        "jovian.commit(project=project_name, environment=None)\n",
        "jovian.commit(project=project_name, environment=None) # try again, kaggle fails sometimes"
      ],
      "execution_count": 66,
      "outputs": [
        {
          "output_type": "stream",
          "text": [
            "[jovian] Detected Colab notebook...\u001b[0m\n",
            "[jovian] Uploading colab notebook to Jovian...\u001b[0m\n",
            "[jovian] Attaching records (metrics, hyperparameters, dataset etc.)\u001b[0m\n",
            "[jovian] Committed successfully! https://jovian.ai/sswastik630/02-insurance-linear-regression\u001b[0m\n",
            "[jovian] Detected Colab notebook...\u001b[0m\n",
            "[jovian] Uploading colab notebook to Jovian...\u001b[0m\n",
            "[jovian] Attaching records (metrics, hyperparameters, dataset etc.)\u001b[0m\n",
            "[jovian] Committed successfully! https://jovian.ai/sswastik630/02-insurance-linear-regression\u001b[0m\n"
          ],
          "name": "stdout"
        },
        {
          "output_type": "execute_result",
          "data": {
            "application/vnd.google.colaboratory.intrinsic+json": {
              "type": "string"
            },
            "text/plain": [
              "'https://jovian.ai/sswastik630/02-insurance-linear-regression'"
            ]
          },
          "metadata": {
            "tags": []
          },
          "execution_count": 66
        }
      ]
    },
    {
      "cell_type": "code",
      "metadata": {
        "id": "S3JQUDfrVKgi"
      },
      "source": [
        ""
      ],
      "execution_count": null,
      "outputs": []
    }
  ]
}