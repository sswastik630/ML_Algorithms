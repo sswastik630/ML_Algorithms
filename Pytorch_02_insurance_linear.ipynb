{
  "nbformat": 4,
  "nbformat_minor": 0,
  "metadata": {
    "kernelspec": {
      "display_name": "Python 3",
      "language": "python",
      "name": "python3"
    },
    "language_info": {
      "codemirror_mode": {
        "name": "ipython",
        "version": 3
      },
      "file_extension": ".py",
      "mimetype": "text/x-python",
      "name": "python",
      "nbconvert_exporter": "python",
      "pygments_lexer": "ipython3",
      "version": "3.8.5"
    },
    "colab": {
      "name": "Pytorch_02-insurance-linear.ipynb",
      "provenance": [],
      "include_colab_link": true
    }
  },
  "cells": [
    {
      "cell_type": "markdown",
      "metadata": {
        "id": "view-in-github",
        "colab_type": "text"
      },
      "source": [
        "<a href=\"https://colab.research.google.com/github/sswastik630/ML_Algorithms/blob/main/Pytorch_02_insurance_linear.ipynb\" target=\"_parent\"><img src=\"https://colab.research.google.com/assets/colab-badge.svg\" alt=\"Open In Colab\"/></a>"
      ]
    },
    {
      "cell_type": "code",
      "metadata": {
        "colab": {
          "base_uri": "https://localhost:8080/"
        },
        "id": "2R4c6yRwVKgN",
        "outputId": "1bd39c9e-0dfa-4d7b-d6d7-44861519a65a"
      },
      "source": [
        "# Jovian Commit Essentials\n",
        "# Please retain and execute this cell without modifying the contents for `jovian.commit` to work\n",
        "!pip install jovian --upgrade -q\n",
        "import jovian\n",
        "jovian.set_project('02-insurance-linear-regression')\n",
        "jovian.set_colab_id('1qgRx93gYqhiJFgTaZHCGshAsqdRZPAQ0')"
      ],
      "execution_count": 1,
      "outputs": [
        {
          "output_type": "stream",
          "text": [
            "\u001b[?25l\r\u001b[K     |████▊                           | 10kB 16.5MB/s eta 0:00:01\r\u001b[K     |█████████▌                      | 20kB 10.7MB/s eta 0:00:01\r\u001b[K     |██████████████▎                 | 30kB 5.9MB/s eta 0:00:01\r\u001b[K     |███████████████████             | 40kB 5.4MB/s eta 0:00:01\r\u001b[K     |███████████████████████▊        | 51kB 3.0MB/s eta 0:00:01\r\u001b[K     |████████████████████████████▌   | 61kB 3.3MB/s eta 0:00:01\r\u001b[K     |████████████████████████████████| 71kB 2.3MB/s \n",
            "\u001b[?25h  Building wheel for uuid (setup.py) ... \u001b[?25l\u001b[?25hdone\n"
          ],
          "name": "stdout"
        }
      ]
    },
    {
      "cell_type": "markdown",
      "metadata": {
        "_cell_guid": "b1076dfc-b9ad-4769-8c92-a6c4dae69d19",
        "_uuid": "8f2839f25d086af736a60e9eeb907d3b93b6e0e5",
        "id": "9G_6WdUrVKgQ"
      },
      "source": [
        "# Insurance cost prediction using linear regression\n",
        "\n",
        "Make a submisson here: https://jovian.ai/learn/deep-learning-with-pytorch-zero-to-gans/assignment/assignment-2-train-your-first-model\n",
        "\n",
        "In this assignment we're going to use information like a person's age, sex, BMI, no. of children and smoking habit to predict the price of yearly medical bills. This kind of model is useful for insurance companies to determine the yearly insurance premium for a person. The dataset for this problem is taken from [Kaggle](https://www.kaggle.com/mirichoi0218/insurance).\n",
        "\n",
        "\n",
        "We will create a model with the following steps:\n",
        "1. Download and explore the dataset\n",
        "2. Prepare the dataset for training\n",
        "3. Create a linear regression model\n",
        "4. Train the model to fit the data\n",
        "5. Make predictions using the trained model\n",
        "\n",
        "\n",
        "This assignment builds upon the concepts from the first 2 lessons. It will help to review these Jupyter notebooks:\n",
        "- PyTorch basics: https://jovian.ai/aakashns/01-pytorch-basics\n",
        "- Linear Regression: https://jovian.ai/aakashns/02-linear-regression\n",
        "- Logistic Regression: https://jovian.ai/aakashns/03-logistic-regression\n",
        "- Linear regression (minimal): https://jovian.ai/aakashns/housing-linear-minimal\n",
        "- Logistic regression (minimal): https://jovian.ai/aakashns/mnist-logistic-minimal\n",
        "\n",
        "As you go through this notebook, you will find a **???** in certain places. Your job is to replace the **???** with appropriate code or values, to ensure that the notebook runs properly end-to-end . In some cases, you'll be required to choose some hyperparameters (learning rate, batch size etc.). Try to experiment with the hypeparameters to get the lowest loss.\n"
      ]
    },
    {
      "cell_type": "code",
      "metadata": {
        "id": "03eOaGM9VKgR"
      },
      "source": [
        "# Uncomment and run the appropriate command for your operating system, if required\n",
        "\n",
        "# Linux / Binder\n",
        "# !pip install numpy matplotlib pandas torch==1.7.0+cpu torchvision==0.8.1+cpu torchaudio==0.7.0 -f https://download.pytorch.org/whl/torch_stable.html\n",
        "\n",
        "# Windows\n",
        "# !pip install numpy matplotlib pandas torch==1.7.0+cpu torchvision==0.8.1+cpu torchaudio==0.7.0 -f https://download.pytorch.org/whl/torch_stable.html\n",
        "\n",
        "# MacOS\n",
        "# !pip install numpy matplotlib pandas torch torchvision torchaudio"
      ],
      "execution_count": null,
      "outputs": []
    },
    {
      "cell_type": "code",
      "metadata": {
        "id": "IkcCdxvcVKgS"
      },
      "source": [
        "import torch\n",
        "import jovian\n",
        "import torchvision\n",
        "import torch.nn as nn\n",
        "import pandas as pd\n",
        "import matplotlib.pyplot as plt\n",
        "import torch.nn.functional as F\n",
        "from torchvision.datasets.utils import download_url\n",
        "from torch.utils.data import DataLoader, TensorDataset, random_split"
      ],
      "execution_count": 13,
      "outputs": []
    },
    {
      "cell_type": "code",
      "metadata": {
        "id": "ZeZphrsbVKgS"
      },
      "source": [
        "project_name='02-insurance-linear-regression' # will be used by jovian.commit"
      ],
      "execution_count": 14,
      "outputs": []
    },
    {
      "cell_type": "markdown",
      "metadata": {
        "id": "5wBsMieiVKgS"
      },
      "source": [
        "## Step 1: Download and explore the data\n",
        "\n",
        "Let us begin by downloading the data. We'll use the `download_url` function from PyTorch to get the data as a CSV (comma-separated values) file. "
      ]
    },
    {
      "cell_type": "code",
      "metadata": {
        "_cell_guid": "79c7e3d0-c299-4dcb-8224-4455121ee9b0",
        "_uuid": "d629ff2d2480ee46fbb7e2d37f6b5fab8052498a",
        "colab": {
          "base_uri": "https://localhost:8080/"
        },
        "id": "YxYcLfhGVKgT",
        "outputId": "f810c645-cf31-4edf-8672-6e7d2a2fb969"
      },
      "source": [
        "DATASET_URL = \"https://hub.jovian.ml/wp-content/uploads/2020/05/insurance.csv\"\n",
        "DATA_FILENAME = \"insurance.csv\"\n",
        "download_url(DATASET_URL, '.')"
      ],
      "execution_count": 15,
      "outputs": [
        {
          "output_type": "stream",
          "text": [
            "Using downloaded and verified file: ./insurance.csv\n"
          ],
          "name": "stdout"
        }
      ]
    },
    {
      "cell_type": "markdown",
      "metadata": {
        "id": "nZe9ZaIEVKgT"
      },
      "source": [
        "To load the dataset into memory, we'll use the `read_csv` function from the `pandas` library. The data will be loaded as a Pandas dataframe. See this short tutorial to learn more: https://data36.com/pandas-tutorial-1-basics-reading-data-files-dataframes-data-selection/"
      ]
    },
    {
      "cell_type": "code",
      "metadata": {
        "colab": {
          "base_uri": "https://localhost:8080/",
          "height": 203
        },
        "id": "5RBSqKnVVKgU",
        "outputId": "df600e9e-dbd3-47ea-bb44-e4a4ccc6a100"
      },
      "source": [
        "dataframe_raw = pd.read_csv(DATA_FILENAME)\n",
        "dataframe_raw.head()"
      ],
      "execution_count": 16,
      "outputs": [
        {
          "output_type": "execute_result",
          "data": {
            "text/html": [
              "<div>\n",
              "<style scoped>\n",
              "    .dataframe tbody tr th:only-of-type {\n",
              "        vertical-align: middle;\n",
              "    }\n",
              "\n",
              "    .dataframe tbody tr th {\n",
              "        vertical-align: top;\n",
              "    }\n",
              "\n",
              "    .dataframe thead th {\n",
              "        text-align: right;\n",
              "    }\n",
              "</style>\n",
              "<table border=\"1\" class=\"dataframe\">\n",
              "  <thead>\n",
              "    <tr style=\"text-align: right;\">\n",
              "      <th></th>\n",
              "      <th>age</th>\n",
              "      <th>sex</th>\n",
              "      <th>bmi</th>\n",
              "      <th>children</th>\n",
              "      <th>smoker</th>\n",
              "      <th>region</th>\n",
              "      <th>charges</th>\n",
              "    </tr>\n",
              "  </thead>\n",
              "  <tbody>\n",
              "    <tr>\n",
              "      <th>0</th>\n",
              "      <td>19</td>\n",
              "      <td>female</td>\n",
              "      <td>27.900</td>\n",
              "      <td>0</td>\n",
              "      <td>yes</td>\n",
              "      <td>southwest</td>\n",
              "      <td>16884.92400</td>\n",
              "    </tr>\n",
              "    <tr>\n",
              "      <th>1</th>\n",
              "      <td>18</td>\n",
              "      <td>male</td>\n",
              "      <td>33.770</td>\n",
              "      <td>1</td>\n",
              "      <td>no</td>\n",
              "      <td>southeast</td>\n",
              "      <td>1725.55230</td>\n",
              "    </tr>\n",
              "    <tr>\n",
              "      <th>2</th>\n",
              "      <td>28</td>\n",
              "      <td>male</td>\n",
              "      <td>33.000</td>\n",
              "      <td>3</td>\n",
              "      <td>no</td>\n",
              "      <td>southeast</td>\n",
              "      <td>4449.46200</td>\n",
              "    </tr>\n",
              "    <tr>\n",
              "      <th>3</th>\n",
              "      <td>33</td>\n",
              "      <td>male</td>\n",
              "      <td>22.705</td>\n",
              "      <td>0</td>\n",
              "      <td>no</td>\n",
              "      <td>northwest</td>\n",
              "      <td>21984.47061</td>\n",
              "    </tr>\n",
              "    <tr>\n",
              "      <th>4</th>\n",
              "      <td>32</td>\n",
              "      <td>male</td>\n",
              "      <td>28.880</td>\n",
              "      <td>0</td>\n",
              "      <td>no</td>\n",
              "      <td>northwest</td>\n",
              "      <td>3866.85520</td>\n",
              "    </tr>\n",
              "  </tbody>\n",
              "</table>\n",
              "</div>"
            ],
            "text/plain": [
              "   age     sex     bmi  children smoker     region      charges\n",
              "0   19  female  27.900         0    yes  southwest  16884.92400\n",
              "1   18    male  33.770         1     no  southeast   1725.55230\n",
              "2   28    male  33.000         3     no  southeast   4449.46200\n",
              "3   33    male  22.705         0     no  northwest  21984.47061\n",
              "4   32    male  28.880         0     no  northwest   3866.85520"
            ]
          },
          "metadata": {
            "tags": []
          },
          "execution_count": 16
        }
      ]
    },
    {
      "cell_type": "markdown",
      "metadata": {
        "id": "5krIoF1ZVKgU"
      },
      "source": [
        "We're going to do a slight customization of the data, so that you every participant receives a slightly different version of the dataset. Fill in your name below as a string (enter at least 5 characters)"
      ]
    },
    {
      "cell_type": "code",
      "metadata": {
        "id": "H6F0CzLGVKgV"
      },
      "source": [
        "your_name = \"Swastik\" # at least 5 characters"
      ],
      "execution_count": 17,
      "outputs": []
    },
    {
      "cell_type": "markdown",
      "metadata": {
        "id": "WxIagJvZVKgV"
      },
      "source": [
        "The `customize_dataset` function will customize the dataset slightly using your name as a source of random numbers."
      ]
    },
    {
      "cell_type": "code",
      "metadata": {
        "id": "N8yhIrUjVKgV"
      },
      "source": [
        "def customize_dataset(dataframe_raw, rand_str):\n",
        "    dataframe = dataframe_raw.copy(deep=True)\n",
        "    # drop some rows\n",
        "    dataframe = dataframe.sample(int(0.95*len(dataframe)), random_state=int(ord(rand_str[0])))\n",
        "    # scale input\n",
        "    dataframe.bmi = dataframe.bmi * ord(rand_str[1])/100.\n",
        "    # scale target\n",
        "    dataframe.charges = dataframe.charges * ord(rand_str[2])/100.\n",
        "    # drop column\n",
        "    if ord(rand_str[3]) % 2 == 1:\n",
        "        dataframe = dataframe.drop(['region'], axis=1)\n",
        "    return dataframe"
      ],
      "execution_count": 18,
      "outputs": []
    },
    {
      "cell_type": "code",
      "metadata": {
        "colab": {
          "base_uri": "https://localhost:8080/",
          "height": 203
        },
        "id": "MA8lrLDcVKgV",
        "outputId": "920845bf-2158-4af9-ebdf-68a110a7ba93"
      },
      "source": [
        "dataframe = customize_dataset(dataframe_raw, your_name)\n",
        "dataframe.head()"
      ],
      "execution_count": 19,
      "outputs": [
        {
          "output_type": "execute_result",
          "data": {
            "text/html": [
              "<div>\n",
              "<style scoped>\n",
              "    .dataframe tbody tr th:only-of-type {\n",
              "        vertical-align: middle;\n",
              "    }\n",
              "\n",
              "    .dataframe tbody tr th {\n",
              "        vertical-align: top;\n",
              "    }\n",
              "\n",
              "    .dataframe thead th {\n",
              "        text-align: right;\n",
              "    }\n",
              "</style>\n",
              "<table border=\"1\" class=\"dataframe\">\n",
              "  <thead>\n",
              "    <tr style=\"text-align: right;\">\n",
              "      <th></th>\n",
              "      <th>age</th>\n",
              "      <th>sex</th>\n",
              "      <th>bmi</th>\n",
              "      <th>children</th>\n",
              "      <th>smoker</th>\n",
              "      <th>charges</th>\n",
              "    </tr>\n",
              "  </thead>\n",
              "  <tbody>\n",
              "    <tr>\n",
              "      <th>665</th>\n",
              "      <td>43</td>\n",
              "      <td>male</td>\n",
              "      <td>45.29140</td>\n",
              "      <td>2</td>\n",
              "      <td>yes</td>\n",
              "      <td>41283.617488</td>\n",
              "    </tr>\n",
              "    <tr>\n",
              "      <th>579</th>\n",
              "      <td>25</td>\n",
              "      <td>female</td>\n",
              "      <td>27.92335</td>\n",
              "      <td>0</td>\n",
              "      <td>no</td>\n",
              "      <td>3110.296609</td>\n",
              "    </tr>\n",
              "    <tr>\n",
              "      <th>84</th>\n",
              "      <td>37</td>\n",
              "      <td>female</td>\n",
              "      <td>41.41200</td>\n",
              "      <td>2</td>\n",
              "      <td>yes</td>\n",
              "      <td>38641.423430</td>\n",
              "    </tr>\n",
              "    <tr>\n",
              "      <th>244</th>\n",
              "      <td>63</td>\n",
              "      <td>female</td>\n",
              "      <td>33.01060</td>\n",
              "      <td>0</td>\n",
              "      <td>yes</td>\n",
              "      <td>28637.470632</td>\n",
              "    </tr>\n",
              "    <tr>\n",
              "      <th>1307</th>\n",
              "      <td>32</td>\n",
              "      <td>male</td>\n",
              "      <td>33.46280</td>\n",
              "      <td>4</td>\n",
              "      <td>yes</td>\n",
              "      <td>20828.304436</td>\n",
              "    </tr>\n",
              "  </tbody>\n",
              "</table>\n",
              "</div>"
            ],
            "text/plain": [
              "      age     sex       bmi  children smoker       charges\n",
              "665    43    male  45.29140         2    yes  41283.617488\n",
              "579    25  female  27.92335         0     no   3110.296609\n",
              "84     37  female  41.41200         2    yes  38641.423430\n",
              "244    63  female  33.01060         0    yes  28637.470632\n",
              "1307   32    male  33.46280         4    yes  20828.304436"
            ]
          },
          "metadata": {
            "tags": []
          },
          "execution_count": 19
        }
      ]
    },
    {
      "cell_type": "markdown",
      "metadata": {
        "id": "rq13bbJNVKgW"
      },
      "source": [
        "Let us answer some basic questions about the dataset. \n",
        "\n",
        "\n",
        "**Q: How many rows does the dataset have?**"
      ]
    },
    {
      "cell_type": "code",
      "metadata": {
        "colab": {
          "base_uri": "https://localhost:8080/"
        },
        "id": "nQUQUey4VKgW",
        "outputId": "c3201ace-be93-4d72-8b1d-ee1d51f1cf51"
      },
      "source": [
        "num_rows = len(dataframe)\n",
        "print(num_rows)"
      ],
      "execution_count": 20,
      "outputs": [
        {
          "output_type": "stream",
          "text": [
            "1271\n"
          ],
          "name": "stdout"
        }
      ]
    },
    {
      "cell_type": "markdown",
      "metadata": {
        "id": "Kj4Aj9TbVKgW"
      },
      "source": [
        "**Q: How many columns doe the dataset have**"
      ]
    },
    {
      "cell_type": "code",
      "metadata": {
        "colab": {
          "base_uri": "https://localhost:8080/"
        },
        "id": "x07G83dcVKgW",
        "outputId": "4b5ba869-c61b-480c-ec08-d3b47973ca4e"
      },
      "source": [
        "num_cols = dataframe.shape[1]\n",
        "print(num_cols)"
      ],
      "execution_count": 21,
      "outputs": [
        {
          "output_type": "stream",
          "text": [
            "6\n"
          ],
          "name": "stdout"
        }
      ]
    },
    {
      "cell_type": "markdown",
      "metadata": {
        "id": "dZbwb70RVKgX"
      },
      "source": [
        "**Q: What are the column titles of the input variables?**"
      ]
    },
    {
      "cell_type": "code",
      "metadata": {
        "colab": {
          "base_uri": "https://localhost:8080/"
        },
        "id": "l2zwX0sJVKgX",
        "outputId": "0ad91930-8b21-405f-c282-30fcdae3497d"
      },
      "source": [
        "\n",
        "input_cols=[x for x in dataframe.columns if x != 'charges']\n",
        "input_cols"
      ],
      "execution_count": 39,
      "outputs": [
        {
          "output_type": "execute_result",
          "data": {
            "text/plain": [
              "['age', 'sex', 'bmi', 'children', 'smoker']"
            ]
          },
          "metadata": {
            "tags": []
          },
          "execution_count": 39
        }
      ]
    },
    {
      "cell_type": "markdown",
      "metadata": {
        "id": "7n7zlrgUVKgX"
      },
      "source": [
        "**Q: Which of the input columns are non-numeric or categorial variables ?**\n",
        "\n",
        "Hint: `sex` is one of them. List the columns that are not numbers."
      ]
    },
    {
      "cell_type": "code",
      "metadata": {
        "id": "5qhqQBhtVKgX"
      },
      "source": [
        "dataframe.dtypes\n",
        "categorical_cols=['sex','smoker']"
      ],
      "execution_count": 25,
      "outputs": []
    },
    {
      "cell_type": "markdown",
      "metadata": {
        "id": "RCgSOS9oVKgX"
      },
      "source": [
        "**Q: What are the column titles of output/target variable(s)?**"
      ]
    },
    {
      "cell_type": "code",
      "metadata": {
        "id": "aniaf2wkVKgX"
      },
      "source": [
        "output_cols = ['charges']"
      ],
      "execution_count": 26,
      "outputs": []
    },
    {
      "cell_type": "markdown",
      "metadata": {
        "id": "KVj2yUBeVKgY"
      },
      "source": [
        "**Q: (Optional) What is the minimum, maximum and average value of the `charges` column? Can you show the distribution of values in a graph?**\n",
        "Use this data visualization cheatsheet for referece: https://jovian.ml/aakashns/dataviz-cheatsheet"
      ]
    },
    {
      "cell_type": "code",
      "metadata": {
        "colab": {
          "base_uri": "https://localhost:8080/"
        },
        "id": "UHGMBhSyVKgY",
        "outputId": "5cd18fd3-dd84-4eaf-d8df-671fb0545f7a"
      },
      "source": [
        "dataframe['charges'].describe()"
      ],
      "execution_count": 28,
      "outputs": [
        {
          "output_type": "execute_result",
          "data": {
            "text/plain": [
              "count     1271.000000\n",
              "mean     12983.489566\n",
              "std      11845.412394\n",
              "min       1088.217683\n",
              "25%       4604.297496\n",
              "50%       9128.674850\n",
              "75%      16335.447931\n",
              "max      61857.315170\n",
              "Name: charges, dtype: float64"
            ]
          },
          "metadata": {
            "tags": []
          },
          "execution_count": 28
        }
      ]
    },
    {
      "cell_type": "markdown",
      "metadata": {
        "id": "j1ebVdLhVKgY"
      },
      "source": [
        "Remember to commit your notebook to Jovian after every step, so that you don't lose your work."
      ]
    },
    {
      "cell_type": "code",
      "metadata": {
        "id": "feR44If5VKgY"
      },
      "source": [
        "!pip install jovian --upgrade -q"
      ],
      "execution_count": 29,
      "outputs": []
    },
    {
      "cell_type": "code",
      "metadata": {
        "id": "9wU42MseVKgY"
      },
      "source": [
        "import jovian"
      ],
      "execution_count": 30,
      "outputs": []
    },
    {
      "cell_type": "code",
      "metadata": {
        "colab": {
          "base_uri": "https://localhost:8080/",
          "height": 136
        },
        "id": "Xv0tgkL_VKgY",
        "outputId": "bb38de28-71a9-4494-9ac2-2d1a1ed4ad29"
      },
      "source": [
        "jovian.commit()"
      ],
      "execution_count": 31,
      "outputs": [
        {
          "output_type": "stream",
          "text": [
            "[jovian] Detected Colab notebook...\u001b[0m\n",
            "[jovian] Please enter your API key ( from https://jovian.ai/ ):\u001b[0m\n",
            "API KEY: ··········\n",
            "[jovian] Uploading colab notebook to Jovian...\u001b[0m\n",
            "[jovian] Capturing environment..\u001b[0m\n",
            "[jovian] Committed successfully! https://jovian.ai/sswastik630/02-insurance-linear-regression\u001b[0m\n"
          ],
          "name": "stdout"
        },
        {
          "output_type": "execute_result",
          "data": {
            "application/vnd.google.colaboratory.intrinsic+json": {
              "type": "string"
            },
            "text/plain": [
              "'https://jovian.ai/sswastik630/02-insurance-linear-regression'"
            ]
          },
          "metadata": {
            "tags": []
          },
          "execution_count": 31
        }
      ]
    },
    {
      "cell_type": "markdown",
      "metadata": {
        "id": "pgqf_pL_VKgZ"
      },
      "source": [
        "## Step 2: Prepare the dataset for training\n",
        "\n",
        "We need to convert the data from the Pandas dataframe into a PyTorch tensors for training. To do this, the first step is to convert it numpy arrays. If you've filled out `input_cols`, `categorial_cols` and `output_cols` correctly, this following function will perform the conversion to numpy arrays."
      ]
    },
    {
      "cell_type": "code",
      "metadata": {
        "id": "3lt5gP_nVKgZ"
      },
      "source": [
        "def dataframe_to_arrays(dataframe):\n",
        "    # Make a copy of the original dataframe\n",
        "    dataframe1 = dataframe.copy(deep=True)\n",
        "    # Convert non-numeric categorical columns to numbers\n",
        "    for col in categorical_cols:\n",
        "        dataframe1[col] = dataframe1[col].astype('category').cat.codes\n",
        "    # Extract input & outupts as numpy arrays\n",
        "    inputs_array = dataframe1[input_cols].to_numpy()\n",
        "    targets_array = dataframe1[output_cols].to_numpy()\n",
        "    return inputs_array, targets_array"
      ],
      "execution_count": 40,
      "outputs": []
    },
    {
      "cell_type": "markdown",
      "metadata": {
        "id": "Gv3kAkBZVKgZ"
      },
      "source": [
        "Read through the [Pandas documentation](https://pandas.pydata.org/pandas-docs/stable/user_guide/categorical.html) to understand how we're converting categorical variables into numbers."
      ]
    },
    {
      "cell_type": "code",
      "metadata": {
        "colab": {
          "base_uri": "https://localhost:8080/"
        },
        "id": "_1In6apwVKgZ",
        "outputId": "bead73c1-07d3-4b19-ef5c-31ba4025a0a0"
      },
      "source": [
        "inputs_array, targets_array = dataframe_to_arrays(dataframe)\n",
        "print(inputs_array) \n",
        "print(targets_array)"
      ],
      "execution_count": 41,
      "outputs": [
        {
          "output_type": "stream",
          "text": [
            "[[43.       1.      45.2914   2.       1.     ]\n",
            " [25.       0.      27.92335  0.       0.     ]\n",
            " [37.       0.      41.412    2.       1.     ]\n",
            " ...\n",
            " [47.       1.      30.2379   1.       1.     ]\n",
            " [35.       1.      28.7147   1.       0.     ]\n",
            " [43.       0.      30.0713   1.       1.     ]]\n",
            "[[41283.617488 ]\n",
            " [ 3110.2966095]\n",
            " [38641.42343  ]\n",
            " ...\n",
            " [21319.316593 ]\n",
            " [ 4971.459229 ]\n",
            " [21118.202031 ]]\n"
          ],
          "name": "stdout"
        }
      ]
    },
    {
      "cell_type": "markdown",
      "metadata": {
        "id": "KYYZe7vfVKgZ"
      },
      "source": [
        "**Q: Convert the numpy arrays `inputs_array` and `targets_array` into PyTorch tensors. Make sure that the data type is `torch.float32`.**"
      ]
    },
    {
      "cell_type": "code",
      "metadata": {
        "id": "0E1wIGAYVKgZ"
      },
      "source": [
        "inputs = torch.tensor(inputs_array,dtype=torch.float32)\n",
        "targets =torch.tensor(targets_array, dtype=torch.float32)"
      ],
      "execution_count": 52,
      "outputs": []
    },
    {
      "cell_type": "code",
      "metadata": {
        "colab": {
          "base_uri": "https://localhost:8080/"
        },
        "id": "7ka2JkHuVKga",
        "outputId": "45ae1939-c3e9-4b20-a7bf-75a0d7f77190"
      },
      "source": [
        "inputs.dtype, targets.dtype"
      ],
      "execution_count": 53,
      "outputs": [
        {
          "output_type": "execute_result",
          "data": {
            "text/plain": [
              "(torch.float32, torch.float32)"
            ]
          },
          "metadata": {
            "tags": []
          },
          "execution_count": 53
        }
      ]
    },
    {
      "cell_type": "markdown",
      "metadata": {
        "id": "1BbN7-C1VKga"
      },
      "source": [
        "Next, we need to create PyTorch datasets & data loaders for training & validation. We'll start by creating a `TensorDataset`."
      ]
    },
    {
      "cell_type": "code",
      "metadata": {
        "id": "9EyXY70qVKga"
      },
      "source": [
        "dataset = TensorDataset(inputs, targets)"
      ],
      "execution_count": 54,
      "outputs": []
    },
    {
      "cell_type": "markdown",
      "metadata": {
        "id": "llbEwkixVKga"
      },
      "source": [
        "**Q: Pick a number between `0.1` and `0.2` to determine the fraction of data that will be used for creating the validation set. Then use `random_split` to create training & validation datasets.**"
      ]
    },
    {
      "cell_type": "code",
      "metadata": {
        "id": "EJDUtRw1VKga"
      },
      "source": [
        "val_percent = 0.2 # between 0.1 and 0.2\n",
        "val_size = int(num_rows * val_percent)\n",
        "train_size = num_rows - val_size\n",
        "\n",
        "\n",
        "train_ds, val_ds = random_split(dataset,(train_size,val_size))# Use the random_split function to split dataset into 2 parts of the desired length"
      ],
      "execution_count": 55,
      "outputs": []
    },
    {
      "cell_type": "markdown",
      "metadata": {
        "id": "XOUH5tORVKga"
      },
      "source": [
        "Finally, we can create data loaders for training & validation.\n",
        "\n",
        "**Q: Pick a batch size for the data loader.**"
      ]
    },
    {
      "cell_type": "code",
      "metadata": {
        "id": "chkg9zNjVKga"
      },
      "source": [
        "batch_size = 128"
      ],
      "execution_count": 56,
      "outputs": []
    },
    {
      "cell_type": "code",
      "metadata": {
        "id": "yHUz-xv6VKgb"
      },
      "source": [
        "train_loader = DataLoader(train_ds, batch_size, shuffle=True)\n",
        "val_loader = DataLoader(val_ds, batch_size)"
      ],
      "execution_count": 57,
      "outputs": []
    },
    {
      "cell_type": "markdown",
      "metadata": {
        "id": "miv6klh9VKgb"
      },
      "source": [
        "Let's look at a batch of data to verify everything is working fine so far."
      ]
    },
    {
      "cell_type": "code",
      "metadata": {
        "colab": {
          "base_uri": "https://localhost:8080/"
        },
        "id": "mpUXsSB4VKgb",
        "outputId": "c6af53c6-5b38-4526-fce5-e6ff279f443f"
      },
      "source": [
        "for xb, yb in train_loader:\n",
        "    print(\"input shape\", xb.shape)\n",
        "    print(\"target shape\", yb.shape)\n",
        "    print(\"inputs:\", xb)\n",
        "\n",
        "    print(\"targets:\", yb)\n",
        "    break"
      ],
      "execution_count": 59,
      "outputs": [
        {
          "output_type": "stream",
          "text": [
            "input shape torch.Size([128, 5])\n",
            "target shape torch.Size([128, 1])\n",
            "inputs: tensor([[27.0000,  0.0000, 38.5500,  1.0000,  0.0000],\n",
            "        [41.0000,  0.0000, 42.9352,  1.0000,  0.0000],\n",
            "        [59.0000,  1.0000, 48.9566,  1.0000,  1.0000],\n",
            "        [36.0000,  0.0000, 35.6048,  0.0000,  0.0000],\n",
            "        [53.0000,  0.0000, 38.4370,  2.0000,  0.0000],\n",
            "        [26.0000,  1.0000, 32.2014,  0.0000,  1.0000],\n",
            "        [37.0000,  0.0000, 36.6282,  0.0000,  1.0000],\n",
            "        [29.0000,  0.0000, 37.0804,  0.0000,  0.0000],\n",
            "        [18.0000,  1.0000, 37.6992,  2.0000,  1.0000],\n",
            "        [43.0000,  0.0000, 54.9780,  0.0000,  1.0000],\n",
            "        [54.0000,  1.0000, 28.6017,  0.0000,  0.0000],\n",
            "        [25.0000,  1.0000, 30.7496,  1.0000,  0.0000],\n",
            "        [43.0000,  1.0000, 30.3688,  5.0000,  0.0000],\n",
            "        [24.0000,  0.0000, 27.6199,  0.0000,  0.0000],\n",
            "        [60.0000,  1.0000, 34.3910,  0.0000,  0.0000],\n",
            "        [60.0000,  1.0000, 47.4810,  0.0000,  1.0000],\n",
            "        [58.0000,  0.0000, 39.3890,  0.0000,  0.0000],\n",
            "        [44.0000,  1.0000, 47.0288,  0.0000,  0.0000],\n",
            "        [55.0000,  1.0000, 35.5810,  0.0000,  0.0000],\n",
            "        [36.0000,  1.0000, 33.3498,  1.0000,  1.0000],\n",
            "        [59.0000,  0.0000, 37.3065,  0.0000,  0.0000],\n",
            "        [45.0000,  1.0000, 34.1530,  2.0000,  0.0000],\n",
            "        [18.0000,  1.0000, 36.1760,  3.0000,  0.0000],\n",
            "        [43.0000,  0.0000, 38.7464,  3.0000,  1.0000],\n",
            "        [53.0000,  0.0000, 43.8634,  3.0000,  1.0000],\n",
            "        [21.0000,  0.0000, 41.4953,  0.0000,  0.0000],\n",
            "        [18.0000,  1.0000, 32.5584,  1.0000,  1.0000],\n",
            "        [21.0000,  1.0000, 42.2807,  0.0000,  0.0000],\n",
            "        [48.0000,  1.0000, 35.3430,  0.0000,  0.0000],\n",
            "        [18.0000,  1.0000, 27.4711,  0.0000,  0.0000],\n",
            "        [36.0000,  1.0000, 40.2458,  1.0000,  0.0000],\n",
            "        [25.0000,  0.0000, 40.4481,  1.0000,  0.0000],\n",
            "        [18.0000,  0.0000, 37.0447,  0.0000,  0.0000],\n",
            "        [19.0000,  0.0000, 39.1510,  0.0000,  0.0000],\n",
            "        [50.0000,  1.0000, 53.2763,  1.0000,  0.0000],\n",
            "        [53.0000,  1.0000, 28.9408,  0.0000,  0.0000],\n",
            "        [22.0000,  0.0000, 27.5842,  0.0000,  0.0000],\n",
            "        [21.0000,  1.0000, 36.9138,  0.0000,  0.0000],\n",
            "        [18.0000,  1.0000, 25.6623,  0.0000,  1.0000],\n",
            "        [22.0000,  1.0000, 38.2109,  0.0000,  0.0000],\n",
            "        [23.0000,  1.0000, 22.2708,  0.0000,  0.0000],\n",
            "        [58.0000,  1.0000, 42.4830,  0.0000,  0.0000],\n",
            "        [43.0000,  1.0000, 35.8190,  1.0000,  0.0000],\n",
            "        [47.0000,  1.0000, 35.4620,  3.0000,  1.0000],\n",
            "        [19.0000,  1.0000, 32.9630,  0.0000,  1.0000],\n",
            "        [26.0000,  0.0000, 34.9324,  2.0000,  0.0000],\n",
            "        [18.0000,  0.0000, 43.8515,  0.0000,  1.0000],\n",
            "        [21.0000,  0.0000, 41.1740,  0.0000,  0.0000],\n",
            "        [58.0000,  0.0000, 49.8729,  0.0000,  0.0000],\n",
            "        [40.0000,  1.0000, 29.7143,  2.0000,  0.0000],\n",
            "        [26.0000,  1.0000, 36.7412,  2.0000,  0.0000],\n",
            "        [28.0000,  1.0000, 26.7929,  2.0000,  0.0000],\n",
            "        [50.0000,  0.0000, 33.1177,  3.0000,  0.0000],\n",
            "        [55.0000,  1.0000, 39.0023,  0.0000,  0.0000],\n",
            "        [18.0000,  1.0000, 39.9067,  0.0000,  1.0000],\n",
            "        [51.0000,  0.0000, 40.3588,  0.0000,  0.0000],\n",
            "        [24.0000,  0.0000, 24.4188,  0.0000,  1.0000],\n",
            "        [54.0000,  0.0000, 37.9610,  1.0000,  0.0000],\n",
            "        [18.0000,  0.0000, 35.8368,  0.0000,  0.0000],\n",
            "        [22.0000,  1.0000, 44.1133,  2.0000,  1.0000],\n",
            "        [58.0000,  0.0000, 33.5759,  0.0000,  0.0000],\n",
            "        [39.0000,  0.0000, 28.8277,  5.0000,  0.0000],\n",
            "        [63.0000,  0.0000, 32.1062,  0.0000,  1.0000],\n",
            "        [30.0000,  1.0000, 46.2077,  1.0000,  0.0000],\n",
            "        [28.0000,  1.0000, 39.2700,  3.0000,  0.0000],\n",
            "        [54.0000,  1.0000, 35.9499,  0.0000,  0.0000],\n",
            "        [55.0000,  1.0000, 39.2700,  0.0000,  0.0000],\n",
            "        [21.0000,  1.0000, 28.2625,  2.0000,  0.0000],\n",
            "        [63.0000,  0.0000, 38.3180,  2.0000,  1.0000],\n",
            "        [45.0000,  0.0000, 47.5941,  3.0000,  0.0000],\n",
            "        [63.0000,  1.0000, 47.3620,  3.0000,  0.0000],\n",
            "        [64.0000,  1.0000, 28.2744,  0.0000,  1.0000],\n",
            "        [42.0000,  1.0000, 29.3216,  0.0000,  1.0000],\n",
            "        [26.0000,  0.0000, 34.2542,  0.0000,  0.0000],\n",
            "        [27.0000,  0.0000, 42.9352,  0.0000,  1.0000],\n",
            "        [60.0000,  0.0000, 32.7845,  0.0000,  0.0000],\n",
            "        [63.0000,  1.0000, 40.0554,  3.0000,  0.0000],\n",
            "        [57.0000,  1.0000, 34.4803,  0.0000,  1.0000],\n",
            "        [37.0000,  0.0000, 56.6440,  2.0000,  1.0000],\n",
            "        [63.0000,  0.0000, 25.7754,  0.0000,  0.0000],\n",
            "        [34.0000,  1.0000, 36.6520,  0.0000,  1.0000],\n",
            "        [53.0000,  1.0000, 42.9590,  1.0000,  0.0000],\n",
            "        [37.0000,  1.0000, 35.4977,  2.0000,  0.0000],\n",
            "        [28.0000,  1.0000, 28.5362,  3.0000,  1.0000],\n",
            "        [19.0000,  0.0000, 33.2010,  0.0000,  1.0000],\n",
            "        [61.0000,  1.0000, 33.6889,  1.0000,  1.0000],\n",
            "        [59.0000,  0.0000, 31.7670,  3.0000,  0.0000],\n",
            "        [19.0000,  0.0000, 33.6770,  0.0000,  1.0000],\n",
            "        [34.0000,  1.0000, 26.6798,  2.0000,  0.0000],\n",
            "        [18.0000,  0.0000, 50.2656,  0.0000,  1.0000],\n",
            "        [55.0000,  0.0000, 36.2950,  0.0000,  0.0000],\n",
            "        [50.0000,  0.0000, 40.1030,  4.0000,  0.0000],\n",
            "        [61.0000,  1.0000, 38.4370,  2.0000,  0.0000],\n",
            "        [22.0000,  1.0000, 37.7587,  0.0000,  0.0000],\n",
            "        [23.0000,  0.0000, 33.9031,  1.0000,  1.0000],\n",
            "        [58.0000,  1.0000, 38.0919,  1.0000,  0.0000],\n",
            "        [57.0000,  0.0000, 27.5842,  0.0000,  0.0000],\n",
            "        [51.0000,  1.0000, 29.0539,  4.0000,  0.0000],\n",
            "        [53.0000,  0.0000, 44.5417,  1.0000,  0.0000],\n",
            "        [19.0000,  0.0000, 26.7929,  0.0000,  0.0000],\n",
            "        [19.0000,  0.0000, 38.6631,  0.0000,  1.0000],\n",
            "        [46.0000,  1.0000, 30.7020,  5.0000,  0.0000],\n",
            "        [34.0000,  0.0000, 28.0364,  0.0000,  0.0000],\n",
            "        [43.0000,  1.0000, 45.2914,  2.0000,  1.0000],\n",
            "        [59.0000,  0.0000, 28.1495,  0.0000,  1.0000],\n",
            "        [19.0000,  0.0000, 33.6889,  0.0000,  1.0000],\n",
            "        [58.0000,  1.0000, 41.4893,  0.0000,  0.0000],\n",
            "        [20.0000,  0.0000, 37.4374,  0.0000,  0.0000],\n",
            "        [62.0000,  0.0000, 35.6048,  0.0000,  0.0000],\n",
            "        [21.0000,  0.0000, 20.7060,  1.0000,  0.0000],\n",
            "        [44.0000,  0.0000, 32.7250,  1.0000,  0.0000],\n",
            "        [64.0000,  0.0000, 46.4695,  3.0000,  0.0000],\n",
            "        [23.0000,  1.0000, 28.3755,  0.0000,  0.0000],\n",
            "        [24.0000,  0.0000, 35.8190,  3.0000,  0.0000],\n",
            "        [29.0000,  1.0000, 26.7929,  3.0000,  0.0000],\n",
            "        [41.0000,  1.0000, 25.9182,  1.0000,  0.0000],\n",
            "        [18.0000,  1.0000, 18.9924,  0.0000,  0.0000],\n",
            "        [22.0000,  0.0000, 24.0797,  0.0000,  0.0000],\n",
            "        [33.0000,  0.0000, 46.2910,  3.0000,  0.0000],\n",
            "        [18.0000,  1.0000, 25.9182,  2.0000,  0.0000],\n",
            "        [62.0000,  0.0000, 38.8892,  0.0000,  0.0000],\n",
            "        [19.0000,  0.0000, 38.2109,  0.0000,  0.0000],\n",
            "        [18.0000,  1.0000, 27.6199,  0.0000,  0.0000],\n",
            "        [34.0000,  0.0000, 44.4286,  2.0000,  0.0000],\n",
            "        [38.0000,  1.0000, 45.6841,  3.0000,  1.0000],\n",
            "        [48.0000,  0.0000, 34.3672,  1.0000,  0.0000],\n",
            "        [29.0000,  0.0000, 26.0015,  0.0000,  1.0000],\n",
            "        [22.0000,  0.0000, 42.8400,  0.0000,  0.0000]])\n",
            "targets: tensor([[18336.3867],\n",
            "        [ 6577.9136],\n",
            "        [47501.1406],\n",
            "        [ 4742.3657],\n",
            "        [28310.8887],\n",
            "        [16532.0410],\n",
            "        [36152.0469],\n",
            "        [ 3825.2876],\n",
            "        [33274.0703],\n",
            "        [44487.3086],\n",
            "        [10110.2295],\n",
            "        [ 3210.4988],\n",
            "        [14043.9805],\n",
            "        [24329.3145],\n",
            "        [11782.5615],\n",
            "        [46728.1602],\n",
            "        [11492.6963],\n",
            "        [ 6740.2397],\n",
            "        [ 9908.1973],\n",
            "        [20150.4180],\n",
            "        [12243.5137],\n",
            "        [ 7787.1289],\n",
            "        [ 3377.4119],\n",
            "        [39713.0469],\n",
            "        [45261.5977],\n",
            "        [ 1959.9358],\n",
            "        [16663.3223],\n",
            "        [ 1486.4956],\n",
            "        [ 7555.9458],\n",
            "        [ 1653.5592],\n",
            "        [ 5216.1343],\n",
            "        [ 3130.3074],\n",
            "        [ 1573.2262],\n",
            "        [ 1696.3108],\n",
            "        [ 8786.9688],\n",
            "        [ 9567.5674],\n",
            "        [ 2649.9548],\n",
            "        [16088.9023],\n",
            "        [13335.4365],\n",
            "        [ 1993.6652],\n",
            "        [20947.5215],\n",
            "        [11021.8721],\n",
            "        [ 6643.5552],\n",
            "        [24550.2051],\n",
            "        [15808.9102],\n",
            "        [ 4427.2656],\n",
            "        [35065.0000],\n",
            "        [ 1959.5717],\n",
            "        [23500.5176],\n",
            "        [ 6395.7031],\n",
            "        [ 3760.9851],\n",
            "        [ 4296.0210],\n",
            "        [19156.9023],\n",
            "        [10283.5830],\n",
            "        [33579.3047],\n",
            "        [ 9570.3154],\n",
            "        [14134.7344],\n",
            "        [10600.9834],\n",
            "        [20704.5020],\n",
            "        [36359.9141],\n",
            "        [11857.6201],\n",
            "        [ 8696.8223],\n",
            "        [28081.9551],\n",
            "        [18394.2773],\n",
            "        [ 4315.9780],\n",
            "        [ 9924.5547],\n",
            "        [20158.0449],\n",
            "        [ 2984.7827],\n",
            "        [45886.1445],\n",
            "        [ 9413.5283],\n",
            "        [14714.9668],\n",
            "        [26118.7188],\n",
            "        [18930.0762],\n",
            "        [ 3283.8372],\n",
            "        [36019.8828],\n",
            "        [12820.5820],\n",
            "        [14706.6885],\n",
            "        [26401.8848],\n",
            "        [44730.1055],\n",
            "        [14016.3584],\n",
            "        [34426.8906],\n",
            "        [ 9783.2705],\n",
            "        [ 6214.2183],\n",
            "        [17133.2500],\n",
            "        [16378.3760],\n",
            "        [28002.6035],\n",
            "        [13951.2275],\n",
            "        [16568.6484],\n",
            "        [26554.6270],\n",
            "        [37628.9062],\n",
            "        [10383.3359],\n",
            "        [10960.3623],\n",
            "        [13696.0312],\n",
            "        [ 2187.1528],\n",
            "        [17778.3906],\n",
            "        [11588.2275],\n",
            "        [11475.6895],\n",
            "        [11174.4971],\n",
            "        [10630.9043],\n",
            "        [ 2053.8186],\n",
            "        [35791.7695],\n",
            "        [ 9794.0605],\n",
            "        [ 4842.6050],\n",
            "        [41283.6172],\n",
            "        [24908.4160],\n",
            "        [16944.9141],\n",
            "        [11586.2568],\n",
            "        [ 1821.5916],\n",
            "        [13054.2217],\n",
            "        [ 2507.7109],\n",
            "        [ 7398.1831],\n",
            "        [15602.5732],\n",
            "        [ 2323.3164],\n",
            "        [ 4107.8794],\n",
            "        [ 5053.2915],\n",
            "        [ 6084.3027],\n",
            "        [ 1643.9525],\n",
            "        [ 2451.9841],\n",
            "        [ 5793.2065],\n",
            "        [11527.5273],\n",
            "        [13429.4531],\n",
            "        [ 2066.7556],\n",
            "        [ 1088.2177],\n",
            "        [ 5809.8379],\n",
            "        [40690.7656],\n",
            "        [ 8972.0107],\n",
            "        [15631.8457],\n",
            "        [ 2101.7300]])\n"
          ],
          "name": "stdout"
        }
      ]
    },
    {
      "cell_type": "markdown",
      "metadata": {
        "id": "0BQLaljBVKgb"
      },
      "source": [
        "Let's save our work by committing to Jovian."
      ]
    },
    {
      "cell_type": "code",
      "metadata": {
        "colab": {
          "base_uri": "https://localhost:8080/",
          "height": 86
        },
        "id": "awyiU_OfVKgb",
        "outputId": "a91abfcb-fec1-4632-aa66-893fc0cc52fe"
      },
      "source": [
        "jovian.commit(project=project_name, environment=None)"
      ],
      "execution_count": 60,
      "outputs": [
        {
          "output_type": "stream",
          "text": [
            "[jovian] Detected Colab notebook...\u001b[0m\n",
            "[jovian] Uploading colab notebook to Jovian...\u001b[0m\n",
            "[jovian] Committed successfully! https://jovian.ai/sswastik630/02-insurance-linear-regression\u001b[0m\n"
          ],
          "name": "stdout"
        },
        {
          "output_type": "execute_result",
          "data": {
            "application/vnd.google.colaboratory.intrinsic+json": {
              "type": "string"
            },
            "text/plain": [
              "'https://jovian.ai/sswastik630/02-insurance-linear-regression'"
            ]
          },
          "metadata": {
            "tags": []
          },
          "execution_count": 60
        }
      ]
    },
    {
      "cell_type": "markdown",
      "metadata": {
        "id": "dXermrP6VKgb"
      },
      "source": [
        "## Step 3: Create a Linear Regression Model\n",
        "\n",
        "Our model itself is a fairly straightforward linear regression (we'll build more complex models in the next assignment). \n"
      ]
    },
    {
      "cell_type": "code",
      "metadata": {
        "id": "z7xsX1vuVKgb"
      },
      "source": [
        "input_size = len(input_cols)\n",
        "output_size = len(output_cols)"
      ],
      "execution_count": 61,
      "outputs": []
    },
    {
      "cell_type": "markdown",
      "metadata": {
        "id": "snaojM_cVKgc"
      },
      "source": [
        "**Q: Complete the class definition below by filling out the constructor (`__init__`), `forward`, `training_step` and `validation_step` methods.**\n",
        "\n",
        "Hint: Think carefully about picking a good loss fuction (it's not cross entropy). Maybe try 2-3 of them and see which one works best. See https://pytorch.org/docs/stable/nn.functional.html#loss-functions"
      ]
    },
    {
      "cell_type": "code",
      "metadata": {
        "id": "x9uOV1eOVKgc"
      },
      "source": [
        "\n",
        "class InsuranceModel(nn.Module):\n",
        "    def __init__(self):\n",
        "        super().__init__()\n",
        "        self.linear = nn.Linear(input_size,output_size)                  # fill this (hint: use input_size & output_size defined above)\n",
        "        \n",
        "    def forward(self, xb):\n",
        "        out = self.linear(xb)                         # fill this\n",
        "        return out\n",
        "    \n",
        "    def training_step(self, batch):\n",
        "        inputs, targets = batch \n",
        "        # Generate predictions\n",
        "        out = self(inputs)          \n",
        "        # Calcuate loss\n",
        "        loss = F.l1_loss(out,targets)                          # fill this\n",
        "        return loss\n",
        "    \n",
        "    def validation_step(self, batch):\n",
        "        inputs, targets = batch\n",
        "        # Generate predictions\n",
        "        out = self(inputs)\n",
        "        # Calculate loss\n",
        "        loss = F.l1_loss(out,targets)                     # fill this    \n",
        "        return {'val_loss': loss.detach()}\n",
        "        \n",
        "    def validation_epoch_end(self, outputs):\n",
        "        batch_losses = [x['val_loss'] for x in outputs]\n",
        "        epoch_loss = torch.stack(batch_losses).mean()   # Combine losses\n",
        "        return {'val_loss': epoch_loss.item()}\n",
        "    \n",
        "    def epoch_end(self, epoch, result, num_epochs):\n",
        "        # Print result every 20th epoch\n",
        "        if (epoch+1) % 1000 == 0 or epoch == num_epochs-1:\n",
        "            print(\"Epoch [{}], val_loss: {:.4f}\".format(epoch+1, result['val_loss']))"
      ],
      "execution_count": 108,
      "outputs": []
    },
    {
      "cell_type": "markdown",
      "metadata": {
        "id": "soAJoAetVKgc"
      },
      "source": [
        "Let us create a model using the `InsuranceModel` class. You may need to come back later and re-run the next cell to reinitialize the model, in case the loss becomes `nan` or `infinity`."
      ]
    },
    {
      "cell_type": "code",
      "metadata": {
        "id": "CHSUtFWzVKgc"
      },
      "source": [
        "model = InsuranceModel()"
      ],
      "execution_count": 109,
      "outputs": []
    },
    {
      "cell_type": "markdown",
      "metadata": {
        "id": "FYiPJBucVKgd"
      },
      "source": [
        "Let's check out the weights and biases of the model using `model.parameters`."
      ]
    },
    {
      "cell_type": "code",
      "metadata": {
        "colab": {
          "base_uri": "https://localhost:8080/"
        },
        "id": "XOHKTyLTVKgd",
        "outputId": "af815662-baa9-454a-f371-72788e2e37b0"
      },
      "source": [
        "\n",
        "list(model.parameters())"
      ],
      "execution_count": 110,
      "outputs": [
        {
          "output_type": "execute_result",
          "data": {
            "text/plain": [
              "[Parameter containing:\n",
              " tensor([[-0.1255, -0.2267,  0.0603, -0.1325,  0.0183]], requires_grad=True),\n",
              " Parameter containing:\n",
              " tensor([0.1079], requires_grad=True)]"
            ]
          },
          "metadata": {
            "tags": []
          },
          "execution_count": 110
        }
      ]
    },
    {
      "cell_type": "markdown",
      "metadata": {
        "id": "Eg7q5HM9VKgd"
      },
      "source": [
        "One final commit before we train the model."
      ]
    },
    {
      "cell_type": "code",
      "metadata": {
        "colab": {
          "base_uri": "https://localhost:8080/",
          "height": 86
        },
        "id": "L9WvV3KmVKgd",
        "outputId": "7b91ec52-cdcb-4472-85af-bacd66e19c12"
      },
      "source": [
        "jovian.commit(project=project_name, environment=None)"
      ],
      "execution_count": 111,
      "outputs": [
        {
          "output_type": "stream",
          "text": [
            "[jovian] Detected Colab notebook...\u001b[0m\n",
            "[jovian] Uploading colab notebook to Jovian...\u001b[0m\n",
            "[jovian] Committed successfully! https://jovian.ai/sswastik630/02-insurance-linear-regression\u001b[0m\n"
          ],
          "name": "stdout"
        },
        {
          "output_type": "execute_result",
          "data": {
            "application/vnd.google.colaboratory.intrinsic+json": {
              "type": "string"
            },
            "text/plain": [
              "'https://jovian.ai/sswastik630/02-insurance-linear-regression'"
            ]
          },
          "metadata": {
            "tags": []
          },
          "execution_count": 111
        }
      ]
    },
    {
      "cell_type": "markdown",
      "metadata": {
        "id": "wIaBg3NYVKgd"
      },
      "source": [
        "## Step 4: Train the model to fit the data\n",
        "\n",
        "To train our model, we'll use the same `fit` function explained in the lecture. That's the benefit of defining a generic training loop - you can use it for any problem."
      ]
    },
    {
      "cell_type": "code",
      "metadata": {
        "id": "ymJPruXrVKgd"
      },
      "source": [
        "def evaluate(model, val_loader):\n",
        "    outputs = [model.validation_step(batch) for batch in val_loader]\n",
        "    return model.validation_epoch_end(outputs)\n",
        "\n",
        "def fit(epochs, lr, model, train_loader, val_loader, opt_func=torch.optim.SGD):\n",
        "    history = []\n",
        "    optimizer = opt_func(model.parameters(), lr)\n",
        "    for epoch in range(epochs):\n",
        "        # Training Phase \n",
        "        for batch in train_loader:\n",
        "            loss = model.training_step(batch)\n",
        "            loss.backward()\n",
        "            optimizer.step()\n",
        "            optimizer.zero_grad()\n",
        "        # Validation phase\n",
        "        result = evaluate(model, val_loader)\n",
        "        model.epoch_end(epoch, result, epochs)\n",
        "        history.append(result)\n",
        "    return history"
      ],
      "execution_count": 112,
      "outputs": []
    },
    {
      "cell_type": "markdown",
      "metadata": {
        "id": "7_nj_BSsVKge"
      },
      "source": [
        "**Q: Use the `evaluate` function to calculate the loss on the validation set before training.**"
      ]
    },
    {
      "cell_type": "code",
      "metadata": {
        "colab": {
          "base_uri": "https://localhost:8080/"
        },
        "id": "y8--6Of3VKge",
        "outputId": "01944cb3-d7d3-4da0-fc18-34d102a237d6"
      },
      "source": [
        "result = evaluate(model,val_loader) # Use the the evaluate function\n",
        "print(result)"
      ],
      "execution_count": 113,
      "outputs": [
        {
          "output_type": "stream",
          "text": [
            "{'val_loss': 12870.2109375}\n"
          ],
          "name": "stdout"
        }
      ]
    },
    {
      "cell_type": "markdown",
      "metadata": {
        "id": "OTWZA_3xVKgf"
      },
      "source": [
        "\n",
        "We are now ready to train the model. You may need to run the training loop many times, for different number of epochs and with different learning rates, to get a good result. Also, if your loss becomes too large (or `nan`), you may have to re-initialize the model by running the cell `model = InsuranceModel()`. Experiment with this for a while, and try to get to as low a loss as possible."
      ]
    },
    {
      "cell_type": "markdown",
      "metadata": {
        "id": "QaCrljS1VKgf"
      },
      "source": [
        "**Q: Train the model 4-5 times with different learning rates & for different number of epochs.**\n",
        "\n",
        "Hint: Vary learning rates by orders of 10 (e.g. `1e-2`, `1e-3`, `1e-4`, `1e-5`, `1e-6`) to figure out what works."
      ]
    },
    {
      "cell_type": "code",
      "metadata": {
        "colab": {
          "base_uri": "https://localhost:8080/"
        },
        "id": "sA6_JnMgVKgf",
        "outputId": "d540c8e0-c6f9-4855-c6f9-78c40d4e1b91"
      },
      "source": [
        "epochs = 10000\n",
        "lr = 1e-4\n",
        "history1 = fit(epochs, lr, model, train_loader, val_loader)"
      ],
      "execution_count": 114,
      "outputs": [
        {
          "output_type": "stream",
          "text": [
            "Epoch [1000], val_loss: 10588.7461\n",
            "Epoch [2000], val_loss: 8923.4316\n",
            "Epoch [3000], val_loss: 7915.6289\n",
            "Epoch [4000], val_loss: 7407.4575\n",
            "Epoch [5000], val_loss: 7218.3232\n",
            "Epoch [6000], val_loss: 7147.9702\n",
            "Epoch [7000], val_loss: 7126.4248\n",
            "Epoch [8000], val_loss: 7115.2783\n",
            "Epoch [9000], val_loss: 7107.6738\n",
            "Epoch [10000], val_loss: 7098.6899\n"
          ],
          "name": "stdout"
        }
      ]
    },
    {
      "cell_type": "code",
      "metadata": {
        "colab": {
          "base_uri": "https://localhost:8080/"
        },
        "id": "hkGvH4_LVKgf",
        "outputId": "46c2fd95-99ad-4bb3-f9a0-c326fe65ce3e"
      },
      "source": [
        "epochs = 10000\n",
        "lr = 1e-4\n",
        "history2 = fit(epochs, lr, model, train_loader, val_loader)"
      ],
      "execution_count": 115,
      "outputs": [
        {
          "output_type": "stream",
          "text": [
            "Epoch [1000], val_loss: 7089.3188\n",
            "Epoch [2000], val_loss: 7077.4746\n",
            "Epoch [3000], val_loss: 7064.7344\n",
            "Epoch [4000], val_loss: 7051.3501\n",
            "Epoch [5000], val_loss: 7037.3989\n",
            "Epoch [6000], val_loss: 7023.5156\n",
            "Epoch [7000], val_loss: 7009.9561\n",
            "Epoch [8000], val_loss: 6996.2520\n",
            "Epoch [9000], val_loss: 6982.8706\n",
            "Epoch [10000], val_loss: 6969.5146\n"
          ],
          "name": "stdout"
        }
      ]
    },
    {
      "cell_type": "code",
      "metadata": {
        "colab": {
          "base_uri": "https://localhost:8080/"
        },
        "id": "1zmdiDimVKgf",
        "outputId": "a3731b1a-7629-483e-da1f-378d82a1f615"
      },
      "source": [
        "epochs = 10000\n",
        "lr = 1e-4\n",
        "history3 = fit(epochs, lr, model, train_loader, val_loader)"
      ],
      "execution_count": 116,
      "outputs": [
        {
          "output_type": "stream",
          "text": [
            "Epoch [1000], val_loss: 6955.7515\n",
            "Epoch [2000], val_loss: 6941.9971\n",
            "Epoch [3000], val_loss: 6928.9531\n",
            "Epoch [4000], val_loss: 6915.9741\n",
            "Epoch [5000], val_loss: 6902.5557\n",
            "Epoch [6000], val_loss: 6889.3086\n",
            "Epoch [7000], val_loss: 6876.6602\n",
            "Epoch [8000], val_loss: 6865.0454\n",
            "Epoch [9000], val_loss: 6853.7930\n",
            "Epoch [10000], val_loss: 6842.6016\n"
          ],
          "name": "stdout"
        }
      ]
    },
    {
      "cell_type": "code",
      "metadata": {
        "colab": {
          "base_uri": "https://localhost:8080/"
        },
        "id": "4hgPGKGLVKgg",
        "outputId": "03f0d41c-dc4f-4833-f0fe-fecf79fab6df"
      },
      "source": [
        "epochs = 10000\n",
        "lr = 1e-4\n",
        "history4 = fit(epochs, lr, model, train_loader, val_loader)"
      ],
      "execution_count": 117,
      "outputs": [
        {
          "output_type": "stream",
          "text": [
            "Epoch [1000], val_loss: 6831.3438\n",
            "Epoch [2000], val_loss: 6819.9761\n",
            "Epoch [3000], val_loss: 6808.8135\n",
            "Epoch [4000], val_loss: 6797.8965\n",
            "Epoch [5000], val_loss: 6787.1514\n",
            "Epoch [6000], val_loss: 6776.4766\n",
            "Epoch [7000], val_loss: 6766.0229\n",
            "Epoch [8000], val_loss: 6755.5747\n",
            "Epoch [9000], val_loss: 6745.0947\n",
            "Epoch [10000], val_loss: 6734.4326\n"
          ],
          "name": "stdout"
        }
      ]
    },
    {
      "cell_type": "code",
      "metadata": {
        "colab": {
          "base_uri": "https://localhost:8080/"
        },
        "id": "6rnttuq5VKgg",
        "outputId": "4f0c69e8-d9af-4cf5-f189-8ca56263c384"
      },
      "source": [
        "epochs = 10000\n",
        "lr = 1e-4\n",
        "history5 = fit(epochs, lr, model, train_loader, val_loader)"
      ],
      "execution_count": 118,
      "outputs": [
        {
          "output_type": "stream",
          "text": [
            "Epoch [1000], val_loss: 6724.1152\n",
            "Epoch [2000], val_loss: 6714.3184\n",
            "Epoch [3000], val_loss: 6704.5762\n",
            "Epoch [4000], val_loss: 6694.7627\n",
            "Epoch [5000], val_loss: 6685.2817\n",
            "Epoch [6000], val_loss: 6676.1255\n",
            "Epoch [7000], val_loss: 6667.8193\n",
            "Epoch [8000], val_loss: 6659.8984\n",
            "Epoch [9000], val_loss: 6652.1338\n",
            "Epoch [10000], val_loss: 6644.6836\n"
          ],
          "name": "stdout"
        }
      ]
    },
    {
      "cell_type": "markdown",
      "metadata": {
        "id": "fqF4rPJoVKgg"
      },
      "source": [
        "**Q: What is the final validation loss of your model?**"
      ]
    },
    {
      "cell_type": "code",
      "metadata": {
        "id": "wUtEkpuCVKgg"
      },
      "source": [
        "val_loss = history5[-1]['val_loss']"
      ],
      "execution_count": 122,
      "outputs": []
    },
    {
      "cell_type": "markdown",
      "metadata": {
        "id": "hXu2NqUaVKgg"
      },
      "source": [
        "Let's log the final validation loss to Jovian and commit the notebook"
      ]
    },
    {
      "cell_type": "code",
      "metadata": {
        "colab": {
          "base_uri": "https://localhost:8080/"
        },
        "id": "mVB8g-8gVKgg",
        "outputId": "fc987c10-7efd-4b30-ab4f-e2c46f7275a5"
      },
      "source": [
        "jovian.log_metrics(val_loss=val_loss)"
      ],
      "execution_count": 123,
      "outputs": [
        {
          "output_type": "stream",
          "text": [
            "[jovian] Metrics logged.\u001b[0m\n"
          ],
          "name": "stdout"
        }
      ]
    },
    {
      "cell_type": "code",
      "metadata": {
        "colab": {
          "base_uri": "https://localhost:8080/",
          "height": 102
        },
        "id": "YrqV4SKVVKgg",
        "outputId": "5edf6cb2-aaab-4347-af3e-4914cba3baca"
      },
      "source": [
        "jovian.commit(project=project_name, environment=None)"
      ],
      "execution_count": 124,
      "outputs": [
        {
          "output_type": "stream",
          "text": [
            "[jovian] Detected Colab notebook...\u001b[0m\n",
            "[jovian] Uploading colab notebook to Jovian...\u001b[0m\n",
            "[jovian] Attaching records (metrics, hyperparameters, dataset etc.)\u001b[0m\n",
            "[jovian] Committed successfully! https://jovian.ai/sswastik630/02-insurance-linear-regression\u001b[0m\n"
          ],
          "name": "stdout"
        },
        {
          "output_type": "execute_result",
          "data": {
            "application/vnd.google.colaboratory.intrinsic+json": {
              "type": "string"
            },
            "text/plain": [
              "'https://jovian.ai/sswastik630/02-insurance-linear-regression'"
            ]
          },
          "metadata": {
            "tags": []
          },
          "execution_count": 124
        }
      ]
    },
    {
      "cell_type": "markdown",
      "metadata": {
        "id": "hcEFeg8kVKgh"
      },
      "source": [
        "Now scroll back up, re-initialize the model, and try different set of values for batch size, number of epochs, learning rate etc. Commit each experiment and use the \"Compare\" and \"View Diff\" options on Jovian to compare the different results."
      ]
    },
    {
      "cell_type": "markdown",
      "metadata": {
        "id": "QvHZBOehVKgh"
      },
      "source": [
        "## Step 5: Make predictions using the trained model\n",
        "\n",
        "**Q: Complete the following function definition to make predictions on a single input**"
      ]
    },
    {
      "cell_type": "code",
      "metadata": {
        "id": "TJE4VgUYVKgh"
      },
      "source": [
        "def predict_single(input, target, model):\n",
        "    inputs = input.unsqueeze(0)\n",
        "    predictions = model(inputs)                # fill this\n",
        "    prediction = predictions[0].detach()\n",
        "    print(\"Input:\", input)\n",
        "    print(\"Target:\", target)\n",
        "    print(\"Prediction:\", prediction)"
      ],
      "execution_count": 125,
      "outputs": []
    },
    {
      "cell_type": "code",
      "metadata": {
        "colab": {
          "base_uri": "https://localhost:8080/"
        },
        "id": "9_jV8pRyVKgh",
        "outputId": "85169ad5-9631-49ed-9813-423fd3606bf4"
      },
      "source": [
        "input, target = val_ds[0]\n",
        "predict_single(input, target, model)"
      ],
      "execution_count": 126,
      "outputs": [
        {
          "output_type": "stream",
          "text": [
            "Input: tensor([34.0000,  0.0000, 37.9848,  1.0000,  1.0000])\n",
            "Target: tensor([36570.8203])\n",
            "Prediction: tensor([6485.3081])\n"
          ],
          "name": "stdout"
        }
      ]
    },
    {
      "cell_type": "code",
      "metadata": {
        "colab": {
          "base_uri": "https://localhost:8080/"
        },
        "id": "By8qxzQwVKgh",
        "outputId": "f1395614-5aed-44cc-a0c9-33d48a9393e5"
      },
      "source": [
        "input, target = val_ds[10]\n",
        "predict_single(input, target, model)"
      ],
      "execution_count": 127,
      "outputs": [
        {
          "output_type": "stream",
          "text": [
            "Input: tensor([28.0000,  1.0000, 34.8194,  2.0000,  0.0000])\n",
            "Target: tensor([4305.1157])\n",
            "Prediction: tensor([5291.5542])\n"
          ],
          "name": "stdout"
        }
      ]
    },
    {
      "cell_type": "code",
      "metadata": {
        "colab": {
          "base_uri": "https://localhost:8080/"
        },
        "id": "bqtPR9AuVKgh",
        "outputId": "66dd3109-c8e4-487b-deac-566504a22ddf"
      },
      "source": [
        "input, target = val_ds[23]\n",
        "predict_single(input, target, model)"
      ],
      "execution_count": 128,
      "outputs": [
        {
          "output_type": "stream",
          "text": [
            "Input: tensor([54.0000,  0.0000, 36.6520,  3.0000,  0.0000])\n",
            "Target: tensor([11742.1602])\n",
            "Prediction: tensor([10613.3057])\n"
          ],
          "name": "stdout"
        }
      ]
    },
    {
      "cell_type": "markdown",
      "metadata": {
        "id": "2TTl-1hMVKgh"
      },
      "source": [
        "Are you happy with your model's predictions? Try to improve them further."
      ]
    },
    {
      "cell_type": "markdown",
      "metadata": {
        "id": "OTyqKP48VKgi"
      },
      "source": [
        "## (Optional) Step 6: Try another dataset & blog about it\n",
        "\n",
        "While this last step is optional for the submission of your assignment, we highly recommend that you do it. Try to replicate this notebook for a different linear regression or logistic regression problem. This will help solidify your understanding, and give you a chance to differentiate the generic patterns in machine learning from problem-specific details.You can use one of these starer notebooks (just change the dataset):\n",
        "\n",
        "- Linear regression (minimal): https://jovian.ai/aakashns/housing-linear-minimal\n",
        "- Logistic regression (minimal): https://jovian.ai/aakashns/mnist-logistic-minimal\n",
        "\n",
        "Here are some sources to find good datasets:\n",
        "\n",
        "- https://lionbridge.ai/datasets/10-open-datasets-for-linear-regression/\n",
        "- https://www.kaggle.com/rtatman/datasets-for-regression-analysis\n",
        "- https://archive.ics.uci.edu/ml/datasets.php?format=&task=reg&att=&area=&numAtt=&numIns=&type=&sort=nameUp&view=table\n",
        "- https://people.sc.fsu.edu/~jburkardt/datasets/regression/regression.html\n",
        "- https://archive.ics.uci.edu/ml/datasets/wine+quality\n",
        "- https://pytorch.org/docs/stable/torchvision/datasets.html\n",
        "\n",
        "We also recommend that you write a blog about your approach to the problem. Here is a suggested structure for your post (feel free to experiment with it):\n",
        "\n",
        "- Interesting title & subtitle\n",
        "- Overview of what the blog covers (which dataset, linear regression or logistic regression, intro to PyTorch)\n",
        "- Downloading & exploring the data\n",
        "- Preparing the data for training\n",
        "- Creating a model using PyTorch\n",
        "- Training the model to fit the data\n",
        "- Your thoughts on how to experiment with different hyperparmeters to reduce loss\n",
        "- Making predictions using the model\n",
        "\n",
        "As with the previous assignment, you can [embed Juptyer notebook cells & outputs from Jovian](https://medium.com/jovianml/share-and-embed-jupyter-notebooks-online-with-jovian-ml-df709a03064e) into your blog. \n",
        "\n",
        "Don't forget to share your work on the forum: https://jovian.ai/forum/t/linear-regression-and-logistic-regression-notebooks-and-blog-posts/14039"
      ]
    },
    {
      "cell_type": "code",
      "metadata": {
        "colab": {
          "base_uri": "https://localhost:8080/",
          "height": 170
        },
        "id": "njct50kQVKgi",
        "outputId": "64d44acb-f2d2-4c34-8e95-4bdeae461435"
      },
      "source": [
        "jovian.commit(project=project_name, environment=None)\n",
        "jovian.commit(project=project_name, environment=None) # try again, kaggle fails sometimes"
      ],
      "execution_count": 129,
      "outputs": [
        {
          "output_type": "stream",
          "text": [
            "[jovian] Detected Colab notebook...\u001b[0m\n",
            "[jovian] Uploading colab notebook to Jovian...\u001b[0m\n",
            "[jovian] Attaching records (metrics, hyperparameters, dataset etc.)\u001b[0m\n",
            "[jovian] Committed successfully! https://jovian.ai/sswastik630/02-insurance-linear-regression\u001b[0m\n",
            "[jovian] Detected Colab notebook...\u001b[0m\n",
            "[jovian] Uploading colab notebook to Jovian...\u001b[0m\n",
            "[jovian] Attaching records (metrics, hyperparameters, dataset etc.)\u001b[0m\n",
            "[jovian] Committed successfully! https://jovian.ai/sswastik630/02-insurance-linear-regression\u001b[0m\n"
          ],
          "name": "stdout"
        },
        {
          "output_type": "execute_result",
          "data": {
            "application/vnd.google.colaboratory.intrinsic+json": {
              "type": "string"
            },
            "text/plain": [
              "'https://jovian.ai/sswastik630/02-insurance-linear-regression'"
            ]
          },
          "metadata": {
            "tags": []
          },
          "execution_count": 129
        }
      ]
    },
    {
      "cell_type": "code",
      "metadata": {
        "id": "S3JQUDfrVKgi"
      },
      "source": [
        ""
      ],
      "execution_count": null,
      "outputs": []
    }
  ]
}